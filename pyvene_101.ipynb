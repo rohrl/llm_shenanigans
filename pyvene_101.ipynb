{
  "cells": [
    {
      "cell_type": "markdown",
      "metadata": {
        "id": "view-in-github",
        "colab_type": "text"
      },
      "source": [
        "<a href=\"https://colab.research.google.com/github/rohrl/llm_shenanigans/blob/main/pyvene_101.ipynb\" target=\"_parent\"><img src=\"https://colab.research.google.com/assets/colab-badge.svg\" alt=\"Open In Colab\"/></a>"
      ]
    },
    {
      "cell_type": "markdown",
      "id": "ba6c7e19",
      "metadata": {
        "id": "ba6c7e19"
      },
      "source": [
        "# Introduction to pyvene\n",
        "This tutorial shows simple runnable code snippets of how to do different kinds of interventions on neural networks with pyvene."
      ]
    },
    {
      "cell_type": "markdown",
      "id": "9d6994fa",
      "metadata": {
        "id": "9d6994fa"
      },
      "source": [
        "[![Open In Colab](https://colab.research.google.com/assets/colab-badge.svg)](https://colab.research.google.com/github/stanfordnlp/pyvene/blob/main/pyvene_101.ipynb)"
      ]
    },
    {
      "cell_type": "code",
      "execution_count": 1,
      "id": "d123a2ba",
      "metadata": {
        "id": "d123a2ba"
      },
      "outputs": [],
      "source": [
        "__author__ = \"Zhengxuan Wu\"\n",
        "__version__ = \"02/01/2024\""
      ]
    },
    {
      "cell_type": "markdown",
      "id": "26298448-91eb-4cad-85bf-ec5fef436e1d",
      "metadata": {
        "id": "26298448-91eb-4cad-85bf-ec5fef436e1d"
      },
      "source": [
        " # Table of Contents  \n",
        "1. [Set-up](#Set-up)     \n",
        "1. [pyvene 101](#pyvene-101)\n",
        "    1. [Get Attention Weights](#Get-Attention-Weights)\n",
        "        1. [with String Access](#Get-Attention-Weights-with-Direct-Access-String)\n",
        "        1. [with 1-Line Function](#Get-Attention-Weights-with-a-Function)\n",
        "    1. [Set Activations to Zeros](#Set-Activation-to-Zeros)\n",
        "        1. [with Lambda Expression](#Set-Activation-to-Zeros-with-a-Lambda-Expression)\n",
        "    1. [Set Activations with Subspaces](#Set-Activations-to-Zeros-with-Subspaces)\n",
        "    1. [Interchange Intervention](#Interchange-Interventions)\n",
        "    1. [Intervention Config](#Intervention-Configuration)\n",
        "    1. [Addition Intervention](#Addition-Intervention)\n",
        "    1. [Trainable Intervention](#Trainable-Intervention)\n",
        "    1. [Activation Collection](#Activation-Collection-with-Intervention)\n",
        "    1. [Activation Collection with Other Intervention](#Activation-Collection-at-Downstream-of-a-Intervened-Model)\n",
        "    1. [Intervene Single Neuron](#Intervene-on-a-Single-Neuron)\n",
        "    1. [Add New Intervention Type](#Add-New-Intervention-Type)\n",
        "    1. [Intervene on Recurrent NNs](#Recurrent-NNs-(Intervene-a-Specific-Timestep))\n",
        "    1. [Intervene across Times with RNNs](#Recurrent-NNs-(Intervene-cross-Time))\n",
        "    1. [Intervene on LM Generation](#LMs-Generation)\n",
        "    1. [Debiasing with Backpack LMs](#Debiasing-with-Backpack-LMs)\n",
        "    1. [Saving and Loading](#Saving-and-Loading)\n",
        "    1. [Multi-Source Intervention (Parallel)](#Multi-Source-Interchange-Intervention-(Parallel-Mode))\n",
        "    1. [Multi-Source Intervention (Serial)](#Multi-Source-Interchange-Intervention-(Serial-Mode))\n",
        "    1. [Multi-Source Intervention with Subspaces (Parallel)](#Multi-Source-Interchange-Intervention-with-Subspaces-(Parallel-Mode))\n",
        "    1. [Multi-Source Intervention with Subspaces (Serial)](#Multi-Source-Interchange-Intervention-with-Subspaces-(Serial-Mode))\n",
        "    1. [Interchange Intervention Training](#Interchange-Intervention-Training-(IIT))\n",
        "1. [pyvene 102](#pyvene-102)\n",
        "    1. [Intervention Grouping](#Grouping)\n",
        "    1. [Intervention Skipping](#Intervention-Skipping-in-Runtime)\n",
        "    1. [Subspace Partition](#Subspace-Partition)\n",
        "    1. [Intervention Linking](#Intervention-Linking)\n",
        "    1. [Add New Model Type](#Add-New-Model-Type)\n",
        "    1. [Path Patching](#Composing-Complex-Intervention-Schema:-Path-Patching)\n",
        "    1. [Causal Tracing](#Composing-Complex-Intervention-Schema:-Causal-Tracing-in-15-lines)\n",
        "    1. [Inference-time Intervention](#Inference-time-Intervention)\n",
        "    1. [IntervenableModel from HuggingFace Directly](#IntervenableModel-from-HuggingFace-Directly)\n",
        "    1. [Path Patching with DAS](#Path-Patching-with-Trainable-Interventions)\n",
        "    1. [Intervene ResNet with Lambda Functors](#Intervene-on-ResNet-with-Lambda-Functions)\n",
        "    1. [Intervene ResNet with 1-line DAS Lambda](#Intervene-on-ResNet-with-Trainable-Lambda-Functions)\n",
        "1. [The End](#The-End)\n",
        "    "
      ]
    },
    {
      "cell_type": "markdown",
      "id": "0706e21b",
      "metadata": {
        "id": "0706e21b"
      },
      "source": [
        "## Set-up"
      ]
    },
    {
      "cell_type": "code",
      "execution_count": 1,
      "id": "e08304ea",
      "metadata": {
        "id": "e08304ea"
      },
      "outputs": [],
      "source": [
        "try:\n",
        "    # This library is our indicator that the required installs\n",
        "    # need to be done.\n",
        "    import pyvene\n",
        "\n",
        "except ModuleNotFoundError:\n",
        "    !pip install git+https://github.com/stanfordnlp/pyvene.git"
      ]
    },
    {
      "cell_type": "markdown",
      "id": "0ede4f94",
      "metadata": {
        "id": "0ede4f94"
      },
      "source": [
        "## pyvene 101\n",
        "Before we get started, here are a couple of core notations that are used in this library:\n",
        "- **Base** example: this is the example we are intervening on, or, we are intervening on the computation graph of the model running the **Base** example.\n",
        "- **Source** example or representations: this is the source of our intervention. We use **Source** to intervene on **Base**.\n",
        "- **component**: this is the `nn.module` we are intervening in a pytorch-based NN. For models supported by this library, you can use directly access via str, or use the abstract names defined in the config file (e.g., `h[0].mlp.output` or `mlp_output` with other fields).\n",
        "- **unit**: this is the axis of our intervention. If we say our **unit** is `pos` (`position`), then you are intervening on each token position.\n",
        "- **unit_locations**: this list gives you the percisely location of your intervention. It is the locations of the unit of analysis you are specifying. For instance, if your `unit` is `pos`, and your `unit_location` is 3, then it means you are intervening on the third token. If this field is left as `None`, then no selection will be taken, i.e., you can think of you are getting the raw tensor and you can do whatever you want.\n",
        "- **intervention_type** or **intervention**: this field specifies the intervention you can perform. It can be a primitive type, or it can be a function or a lambda expression for simple interventions. One benefit of using primitives is speed and systematic training schemes. You can also save and load interventions if you use the supported primitives."
      ]
    },
    {
      "cell_type": "markdown",
      "id": "7245643b-fd44-47a5-a189-ce1565da7e25",
      "metadata": {
        "id": "7245643b-fd44-47a5-a189-ce1565da7e25"
      },
      "source": [
        "### Get Attention Weights"
      ]
    },
    {
      "cell_type": "code",
      "source": [],
      "metadata": {
        "id": "b9vKki5kTI9Y"
      },
      "id": "b9vKki5kTI9Y",
      "execution_count": null,
      "outputs": []
    },
    {
      "cell_type": "code",
      "execution_count": 78,
      "id": "17c7f2f6-b0d3-4fe2-8e4f-c044b93f3ef0",
      "metadata": {
        "id": "17c7f2f6-b0d3-4fe2-8e4f-c044b93f3ef0"
      },
      "outputs": [],
      "source": [
        "import pyvene as pv\n",
        "from transformers import AutoTokenizer, AutoModelForCausalLM\n",
        "\n",
        "model_name = \"gpt2\"\n",
        "gpt2 = AutoModelForCausalLM.from_pretrained(model_name)\n",
        "tokenizer = AutoTokenizer.from_pretrained(model_name)\n",
        "\n",
        "pv_gpt2 = pv.IntervenableModel({\n",
        "    \"layer\": 0,\n",
        "    \"component\": \"attention_weight\",\n",
        "    \"intervention_type\": pv.CollectIntervention}, model=gpt2)\n",
        "\n",
        "base = \"When John and Mary went to the shops, Mary gave the bag to\"\n",
        "\n",
        "base_tokens = tokenizer(base, return_tensors=\"pt\")\n",
        "\n",
        "collected_attn_w = pv_gpt2(\n",
        "    base = base_tokens,\n",
        "    unit_locations={\"base\": [h for h in range(12)]}\n",
        ")[0][-1][0]"
      ]
    },
    {
      "cell_type": "code",
      "source": [
        "gpt2"
      ],
      "metadata": {
        "id": "t3bjfCgTTKP7",
        "outputId": "53be6d8f-1c8b-4f65-ba03-755ece0d0b0e",
        "colab": {
          "base_uri": "https://localhost:8080/"
        }
      },
      "id": "t3bjfCgTTKP7",
      "execution_count": 73,
      "outputs": [
        {
          "output_type": "execute_result",
          "data": {
            "text/plain": [
              "GPT2LMHeadModel(\n",
              "  (transformer): GPT2Model(\n",
              "    (wte): Embedding(50257, 768)\n",
              "    (wpe): Embedding(1024, 768)\n",
              "    (drop): Dropout(p=0.1, inplace=False)\n",
              "    (h): ModuleList(\n",
              "      (0-11): 12 x GPT2Block(\n",
              "        (ln_1): LayerNorm((768,), eps=1e-05, elementwise_affine=True)\n",
              "        (attn): GPT2Attention(\n",
              "          (c_attn): Conv1D()\n",
              "          (c_proj): Conv1D()\n",
              "          (attn_dropout): Dropout(p=0.1, inplace=False)\n",
              "          (resid_dropout): Dropout(p=0.1, inplace=False)\n",
              "        )\n",
              "        (ln_2): LayerNorm((768,), eps=1e-05, elementwise_affine=True)\n",
              "        (mlp): GPT2MLP(\n",
              "          (c_fc): Conv1D()\n",
              "          (c_proj): Conv1D()\n",
              "          (act): NewGELUActivation()\n",
              "          (dropout): Dropout(p=0.1, inplace=False)\n",
              "        )\n",
              "      )\n",
              "    )\n",
              "    (ln_f): LayerNorm((768,), eps=1e-05, elementwise_affine=True)\n",
              "  )\n",
              "  (lm_head): Linear(in_features=768, out_features=50257, bias=False)\n",
              ")"
            ]
          },
          "metadata": {},
          "execution_count": 73
        }
      ]
    },
    {
      "cell_type": "code",
      "source": [],
      "metadata": {
        "id": "G-29sBnyTVCy"
      },
      "id": "G-29sBnyTVCy",
      "execution_count": 73,
      "outputs": []
    },
    {
      "cell_type": "code",
      "source": [
        "collected_attn_w.shape"
      ],
      "metadata": {
        "id": "f0AjZ0UuTCFn",
        "outputId": "08f5e56d-c7ca-4600-ed71-8f34250e1561",
        "colab": {
          "base_uri": "https://localhost:8080/"
        }
      },
      "id": "f0AjZ0UuTCFn",
      "execution_count": 74,
      "outputs": [
        {
          "output_type": "execute_result",
          "data": {
            "text/plain": [
              "torch.Size([12, 14, 14])"
            ]
          },
          "metadata": {},
          "execution_count": 74
        }
      ]
    },
    {
      "source": [
        "import matplotlib.pyplot as plt\n",
        "import seaborn as sns\n",
        "\n",
        "tokens = [tokenizer.decode(t) for t in base_tokens.input_ids.squeeze()]\n",
        "print(tokens)\n",
        "\n",
        "for attention_tensor in collected_attn_w:\n",
        "  fig, ax = plt.subplots(figsize=(4, 4))\n",
        "\n",
        "  sns.heatmap(attention_tensor, annot=False, fmt=\".2f\", square=True, ax=ax)\n",
        "\n",
        "  ax.set_xticklabels(tokens, rotation=90, ha='right')\n",
        "  ax.xaxis.set_ticks_position(\"top\")\n",
        "  ax.set_yticklabels(tokens, rotation=0)\n",
        "\n",
        "plt.show()"
      ],
      "cell_type": "code",
      "metadata": {
        "id": "Enl0LwxNVWvN",
        "outputId": "6ca852c9-517c-4b2e-fb2c-390c1e2b8e2c",
        "colab": {
          "base_uri": "https://localhost:8080/",
          "height": 1000
        }
      },
      "id": "Enl0LwxNVWvN",
      "execution_count": 80,
      "outputs": [
        {
          "output_type": "stream",
          "name": "stdout",
          "text": [
            "['When', ' John', ' and', ' Mary', ' went', ' to', ' the', ' shops', ',', ' Mary', ' gave', ' the', ' bag', ' to']\n"
          ]
        },
        {
          "output_type": "display_data",
          "data": {
            "text/plain": [
              "<Figure size 400x400 with 2 Axes>"
            ],
            "image/png": "[encoded data removed]"
          },
          "metadata": {}
        },
        {
          "output_type": "display_data",
          "data": {
            "text/plain": [
              "<Figure size 400x400 with 2 Axes>"
            ],
            "image/png": "[encoded data removed]"
          },
          "metadata": {}
        },
        {
          "output_type": "display_data",
          "data": {
            "text/plain": [
              "<Figure size 400x400 with 2 Axes>"
            ],
            "image/png": "[encoded data removed]"
          },
          "metadata": {}
        },
        {
          "output_type": "display_data",
          "data": {
            "text/plain": [
              "<Figure size 400x400 with 2 Axes>"
            ],
            "image/png": "[encoded data removed]"
          },
          "metadata": {}
        },
        {
          "output_type": "display_data",
          "data": {
            "text/plain": [
              "<Figure size 400x400 with 2 Axes>"
            ],
            "image/png": "[encoded data removed]"
          },
          "metadata": {}
        },
        {
          "output_type": "display_data",
          "data": {
            "text/plain": [
              "<Figure size 400x400 with 2 Axes>"
            ],
            "image/png": "[encoded data removed]"
          },
          "metadata": {}
        },
        {
          "output_type": "display_data",
          "data": {
            "text/plain": [
              "<Figure size 400x400 with 2 Axes>"
            ],
            "image/png": "[encoded data removed]"
          },
          "metadata": {}
        },
        {
          "output_type": "display_data",
          "data": {
            "text/plain": [
              "<Figure size 400x400 with 2 Axes>"
            ],
            "image/png": "[encoded data removed]"
          },
          "metadata": {}
        },
        {
          "output_type": "display_data",
          "data": {
            "text/plain": [
              "<Figure size 400x400 with 2 Axes>"
            ],
            "image/png": "[encoded data removed]"
          },
          "metadata": {}
        },
        {
          "output_type": "display_data",
          "data": {
            "text/plain": [
              "<Figure size 400x400 with 2 Axes>"
            ],
            "image/png": "[encoded data removed]"
          },
          "metadata": {}
        },
        {
          "output_type": "display_data",
          "data": {
            "text/plain": [
              "<Figure size 400x400 with 2 Axes>"
            ],
            "image/png": "[encoded data removed]"
          },
          "metadata": {}
        },
        {
          "output_type": "display_data",
          "data": {
            "text/plain": [
              "<Figure size 400x400 with 2 Axes>"
            ],
            "image/png": "[encoded data removed]"
          },
          "metadata": {}
        }
      ]
    },
    {
      "cell_type": "markdown",
      "id": "cee8d393-1676-45e2-8aa7-228343d3b13b",
      "metadata": {
        "id": "cee8d393-1676-45e2-8aa7-228343d3b13b"
      },
      "source": [
        "#### Get Attention Weights with Direct Access String"
      ]
    },
    {
      "cell_type": "code",
      "execution_count": null,
      "id": "128be2dd-f089-4291-bfc5-7002d031b1e9",
      "metadata": {
        "id": "128be2dd-f089-4291-bfc5-7002d031b1e9",
        "outputId": "aed94503-5208-4110-f6ea-e6c888d87531"
      },
      "outputs": [
        {
          "name": "stdout",
          "output_type": "stream",
          "text": [
            "loaded model\n"
          ]
        }
      ],
      "source": [
        "import torch\n",
        "import pyvene as pv\n",
        "\n",
        "# gpt2 helper loading model from HuggingFace\n",
        "_, tokenizer, gpt2 = pv.create_gpt2()\n",
        "\n",
        "pv_gpt2 = pv.IntervenableModel({\n",
        "    # based on the module printed above, you can access via string, input means the input to the module\n",
        "    \"component\": \"h[10].attn.attn_dropout.input\",\n",
        "    # you can also initialize the intervention outside\n",
        "    \"intervention\": pv.CollectIntervention()}, model=gpt2)\n",
        "\n",
        "base = \"When John and Mary went to the shops, Mary gave the bag to\"\n",
        "collected_attn_w = pv_gpt2(\n",
        "    base = tokenizer(base, return_tensors=\"pt\"\n",
        "    ), unit_locations={\"base\": [h for h in range(12)]}\n",
        ")[0][-1][0]"
      ]
    },
    {
      "cell_type": "markdown",
      "id": "22643b2d",
      "metadata": {
        "id": "22643b2d"
      },
      "source": [
        "#### Get Attention Weights with a Function"
      ]
    },
    {
      "cell_type": "code",
      "execution_count": null,
      "id": "678dc46f",
      "metadata": {
        "id": "678dc46f",
        "outputId": "05cdb59e-ad29-4f0a-890d-31daa63ace50"
      },
      "outputs": [
        {
          "name": "stdout",
          "output_type": "stream",
          "text": [
            "loaded model\n"
          ]
        }
      ],
      "source": [
        "import torch\n",
        "import copy\n",
        "import pyvene as pv\n",
        "\n",
        "_, tokenizer, gpt2 = pv.create_gpt2()\n",
        "\n",
        "cached_w = {}\n",
        "def pv_patcher(b, s): cached_w[\"attn_w\"] = copy.deepcopy(b.data)\n",
        "\n",
        "pv_gpt2 = pv.IntervenableModel({\n",
        "    \"component\": \"h[10].attn.attn_dropout.input\",\n",
        "    \"intervention\": pv_patcher}, model=gpt2)\n",
        "\n",
        "base = \"When John and Mary went to the shops, Mary gave the bag to\"\n",
        "_ = pv_gpt2(tokenizer(base, return_tensors=\"pt\"))\n",
        "torch.allclose(collected_attn_w, cached_w[\"attn_w\"].unsqueeze(dim=0))"
      ]
    },
    {
      "cell_type": "markdown",
      "id": "12c5addb-4bd7-4129-b350-0677774f5790",
      "metadata": {
        "id": "12c5addb-4bd7-4129-b350-0677774f5790"
      },
      "source": [
        "### Set Activation to Zeros"
      ]
    },
    {
      "cell_type": "code",
      "execution_count": 81,
      "id": "a82664f9",
      "metadata": {
        "id": "a82664f9",
        "outputId": "79f6a58f-b2ac-4a9b-8e97-0431532a0737",
        "colab": {
          "base_uri": "https://localhost:8080/"
        }
      },
      "outputs": [
        {
          "output_type": "stream",
          "name": "stdout",
          "text": [
            "loaded model\n"
          ]
        }
      ],
      "source": [
        "import torch\n",
        "import pyvene as pv\n",
        "\n",
        "_, tokenizer, gpt2 = pv.create_gpt2()\n",
        "\n",
        "# define the component to zero-out\n",
        "pv_gpt2 = pv.IntervenableModel({\n",
        "    \"layer\": 0, \"component\": \"mlp_output\",\n",
        "    \"source_representation\": torch.zeros(gpt2.config.n_embd)\n",
        "}, model=gpt2)\n",
        "# run the intervened forward pass\n",
        "intervened_outputs = pv_gpt2(\n",
        "    base = tokenizer(\"The capital of Spain is\", return_tensors=\"pt\"),\n",
        "    # we define the intervening token dynamically\n",
        "    unit_locations={\"base\": 3},\n",
        "    output_original_output=True # False then the first element in the tuple is None\n",
        ")"
      ]
    },
    {
      "cell_type": "markdown",
      "id": "b9c11cb9",
      "metadata": {
        "id": "b9c11cb9"
      },
      "source": [
        "#### Set Activation to Zeros with a Lambda Expression"
      ]
    },
    {
      "cell_type": "code",
      "execution_count": null,
      "id": "7627dc32",
      "metadata": {
        "id": "7627dc32",
        "outputId": "9b398c84-90ec-489b-8d91-ee273e1b5396"
      },
      "outputs": [
        {
          "name": "stdout",
          "output_type": "stream",
          "text": [
            "loaded model\n"
          ]
        },
        {
          "data": {
            "text/plain": [
              "True"
            ]
          },
          "execution_count": 5,
          "metadata": {},
          "output_type": "execute_result"
        }
      ],
      "source": [
        "import torch\n",
        "import pyvene as pv\n",
        "\n",
        "_, tokenizer, gpt2 = pv.create_gpt2()\n",
        "\n",
        "# indices are specified in the intervention\n",
        "mask = torch.ones(1, 5, 768)\n",
        "mask[:,3,:] = 0.\n",
        "# define the component to zero-out\n",
        "pv_gpt2 = pv.IntervenableModel({\n",
        "    \"component\": \"h[0].mlp.output\", \"intervention\": lambda b, s: b*mask\n",
        "}, model=gpt2)\n",
        "# run the intervened forward pass\n",
        "intervened_outputs_fn = pv_gpt2(\n",
        "    base = tokenizer(\"The capital of Spain is\", return_tensors=\"pt\")\n",
        ")\n",
        "torch.allclose(\n",
        "    intervened_outputs[1].last_hidden_state,\n",
        "    intervened_outputs_fn[1].last_hidden_state\n",
        ")"
      ]
    },
    {
      "cell_type": "markdown",
      "id": "72363777",
      "metadata": {
        "id": "72363777"
      },
      "source": [
        "#### Set Activation to Zeros with a Lambda Expression and Subspace notation"
      ]
    },
    {
      "cell_type": "code",
      "execution_count": null,
      "id": "d86c06f0",
      "metadata": {
        "id": "d86c06f0",
        "outputId": "9fc03970-a471-45bb-e3e3-fe8078ce6ce0"
      },
      "outputs": [
        {
          "name": "stdout",
          "output_type": "stream",
          "text": [
            "loaded model\n"
          ]
        },
        {
          "data": {
            "text/plain": [
              "True"
            ]
          },
          "execution_count": 8,
          "metadata": {},
          "output_type": "execute_result"
        }
      ],
      "source": [
        "import torch\n",
        "import pyvene as pv\n",
        "\n",
        "_, tokenizer, gpt2 = pv.create_gpt2()\n",
        "\n",
        "# indices are specified in the intervention\n",
        "\n",
        "def pv_patcher(b, s, sp):\n",
        "    mask = torch.ones(1, 5, 768)\n",
        "    mask[:,sp[0][0],:] = 0.\n",
        "    return b*mask\n",
        "\n",
        "# define the component to zero-out\n",
        "pv_gpt2 = pv.IntervenableModel({\n",
        "    \"component\": \"h[0].mlp.output\", \"intervention\": pv_patcher\n",
        "}, model=gpt2)\n",
        "# run the intervened forward pass\n",
        "intervened_outputs_fn = pv_gpt2(\n",
        "    base = tokenizer(\"The capital of Spain is\", return_tensors=\"pt\"),\n",
        "    subspaces=3,\n",
        ")\n",
        "torch.allclose(\n",
        "    intervened_outputs[1].last_hidden_state,\n",
        "    intervened_outputs_fn[1].last_hidden_state\n",
        ")"
      ]
    },
    {
      "cell_type": "markdown",
      "id": "39071858",
      "metadata": {
        "id": "39071858"
      },
      "source": [
        "### Set Activations to Zeros with Subspaces\n",
        "The notion of subspace means the actual dimensions you are intervening. If we have a representation in a size of 512, the first 128 activation values are its subspace activations."
      ]
    },
    {
      "cell_type": "code",
      "execution_count": null,
      "id": "b7896c3b",
      "metadata": {
        "id": "b7896c3b",
        "outputId": "3679d36c-f679-4910-a37b-bf0ce08bf82a"
      },
      "outputs": [
        {
          "name": "stdout",
          "output_type": "stream",
          "text": [
            "loaded model\n",
            "Directory './tmp/' already exists.\n"
          ]
        }
      ],
      "source": [
        "import torch\n",
        "import pyvene as pv\n",
        "# built-in helper to get a HuggingFace model\n",
        "_, tokenizer, gpt2 = pv.create_gpt2()\n",
        "# create with dict-based config\n",
        "pv_config = pv.IntervenableConfig({\n",
        "  \"layer\": 0, \"component\": \"mlp_output\"})\n",
        "#initialize model\n",
        "pv_gpt2 = pv.IntervenableModel(pv_config, model=gpt2)\n",
        "# run an intervened forward pass\n",
        "intervened_outputs = pv_gpt2(\n",
        "  # the intervening base input\n",
        "  base=tokenizer(\"The capital of Spain is\", return_tensors=\"pt\"),\n",
        "  # the location to intervene at (3rd token)\n",
        "  unit_locations={\"base\": 3},\n",
        "  # the individual dimensions targetted\n",
        "  subspaces=[10,11,12],\n",
        "  source_representations=torch.zeros(gpt2.config.n_embd)\n",
        ")\n",
        "# sharing\n",
        "pv_gpt2.save(\"./tmp/\")"
      ]
    },
    {
      "cell_type": "markdown",
      "id": "1410904d",
      "metadata": {
        "id": "1410904d"
      },
      "source": [
        "### Interchange Interventions\n",
        "Instead of a static vector, we can intervene the model with activations sampled from a different forward run. We call this interchange intervention, where intervention happens between two examples and we are interchanging activations between them."
      ]
    },
    {
      "cell_type": "code",
      "execution_count": null,
      "id": "9691c7d8",
      "metadata": {
        "id": "9691c7d8",
        "outputId": "4435c752-f637-49fe-b62a-622d37c1b5fb"
      },
      "outputs": [
        {
          "name": "stdout",
          "output_type": "stream",
          "text": [
            "loaded model\n"
          ]
        }
      ],
      "source": [
        "import torch\n",
        "import pyvene as pv\n",
        "# built-in helper to get a HuggingFace model\n",
        "_, tokenizer, gpt2 = pv.create_gpt2()\n",
        "# create with dict-based config\n",
        "pv_config = pv.IntervenableConfig({\n",
        "  \"layer\": 0,\n",
        "  \"component\": \"mlp_output\"},\n",
        "  intervention_types=pv.VanillaIntervention\n",
        ")\n",
        "#initialize model\n",
        "pv_gpt2 = pv.IntervenableModel(\n",
        "  pv_config, model=gpt2)\n",
        "# run an interchange intervention\n",
        "intervened_outputs = pv_gpt2(\n",
        "  # the base input\n",
        "  base=tokenizer(\n",
        "    \"The capital of Spain is\",\n",
        "    return_tensors = \"pt\"),\n",
        "  # the source input\n",
        "  sources=tokenizer(\n",
        "    \"The capital of Italy is\",\n",
        "    return_tensors = \"pt\"),\n",
        "  # the location to intervene at (3rd token)\n",
        "  unit_locations={\"sources->base\": 3},\n",
        "  # the individual dimensions targeted\n",
        "  subspaces=[10,11,12]\n",
        ")"
      ]
    },
    {
      "cell_type": "markdown",
      "id": "c890fda4",
      "metadata": {
        "id": "c890fda4"
      },
      "source": [
        "### Intervention Configuration\n",
        "You can also initialize the config without the lazy dictionary passing by enabling more options, e.g., the mode of these interventions are executed."
      ]
    },
    {
      "cell_type": "code",
      "execution_count": null,
      "id": "4faa3e41",
      "metadata": {
        "id": "4faa3e41",
        "outputId": "9d4dd164-c6f3-4720-9151-5e23eba5373e"
      },
      "outputs": [
        {
          "name": "stdout",
          "output_type": "stream",
          "text": [
            "loaded model\n",
            "IntervenableConfig\n",
            "{\n",
            "    \"model_type\": \"None\",\n",
            "    \"representations\": [\n",
            "        {\n",
            "            \"layer\": 0,\n",
            "            \"component\": \"mlp_output\",\n",
            "            \"unit\": \"pos\",\n",
            "            \"max_number_of_units\": 1,\n",
            "            \"low_rank_dimension\": null,\n",
            "            \"intervention_type\": null,\n",
            "            \"intervention\": null,\n",
            "            \"subspace_partition\": null,\n",
            "            \"group_key\": null,\n",
            "            \"intervention_link_key\": null,\n",
            "            \"moe_key\": null,\n",
            "            \"source_representation\": \"PLACEHOLDER\",\n",
            "            \"hidden_source_representation\": null\n",
            "        },\n",
            "        {\n",
            "            \"layer\": 1,\n",
            "            \"component\": \"mlp_output\",\n",
            "            \"unit\": \"pos\",\n",
            "            \"max_number_of_units\": 1,\n",
            "            \"low_rank_dimension\": null,\n",
            "            \"intervention_type\": null,\n",
            "            \"intervention\": null,\n",
            "            \"subspace_partition\": null,\n",
            "            \"group_key\": null,\n",
            "            \"intervention_link_key\": null,\n",
            "            \"moe_key\": null,\n",
            "            \"source_representation\": \"PLACEHOLDER\",\n",
            "            \"hidden_source_representation\": null\n",
            "        },\n",
            "        {\n",
            "            \"layer\": 2,\n",
            "            \"component\": \"mlp_output\",\n",
            "            \"unit\": \"pos\",\n",
            "            \"max_number_of_units\": 1,\n",
            "            \"low_rank_dimension\": null,\n",
            "            \"intervention_type\": null,\n",
            "            \"intervention\": null,\n",
            "            \"subspace_partition\": null,\n",
            "            \"group_key\": null,\n",
            "            \"intervention_link_key\": null,\n",
            "            \"moe_key\": null,\n",
            "            \"source_representation\": \"PLACEHOLDER\",\n",
            "            \"hidden_source_representation\": null\n",
            "        },\n",
            "        {\n",
            "            \"layer\": 3,\n",
            "            \"component\": \"mlp_output\",\n",
            "            \"unit\": \"pos\",\n",
            "            \"max_number_of_units\": 1,\n",
            "            \"low_rank_dimension\": null,\n",
            "            \"intervention_type\": null,\n",
            "            \"intervention\": null,\n",
            "            \"subspace_partition\": null,\n",
            "            \"group_key\": null,\n",
            "            \"intervention_link_key\": null,\n",
            "            \"moe_key\": null,\n",
            "            \"source_representation\": \"PLACEHOLDER\",\n",
            "            \"hidden_source_representation\": null\n",
            "        }\n",
            "    ],\n",
            "    \"intervention_types\": \"<class 'pyvene.models.interventions.VanillaIntervention'>\",\n",
            "    \"mode\": \"parallel\",\n",
            "    \"sorted_keys\": \"None\",\n",
            "    \"intervention_dimensions\": \"None\"\n",
            "}\n"
          ]
        }
      ],
      "source": [
        "import torch\n",
        "import pyvene as pv\n",
        "\n",
        "_, tokenizer, gpt2 = pv.create_gpt2()\n",
        "# standalone configuration object\n",
        "config = pv.IntervenableConfig([\n",
        "    {\n",
        "        \"layer\": _,\n",
        "        \"component\": \"mlp_output\",\n",
        "        \"source_representation\": torch.zeros(\n",
        "            gpt2.config.n_embd)\n",
        "    } for _ in range(4)],\n",
        "    mode=\"parallel\"\n",
        ")\n",
        "# this object is serializable\n",
        "print(config)\n",
        "pv_gpt2 = pv.IntervenableModel(config, model=gpt2)\n",
        "\n",
        "intervened_outputs = pv_gpt2(\n",
        "    base = tokenizer(\"The capital of Spain is\", return_tensors=\"pt\"),\n",
        "    unit_locations={\"base\": 3}\n",
        ")"
      ]
    },
    {
      "cell_type": "markdown",
      "id": "9c5b2270",
      "metadata": {
        "id": "9c5b2270"
      },
      "source": [
        "### Addition Intervention\n",
        "Activation swap is one kind of interventions we can perform. Here is another simple one: `pv.AdditionIntervention`, which adds the sampled representation into the **Base** run."
      ]
    },
    {
      "cell_type": "code",
      "execution_count": null,
      "id": "a40f5989",
      "metadata": {
        "id": "a40f5989",
        "outputId": "81a6ac30-65b8-468c-be81-f2784f286a23"
      },
      "outputs": [
        {
          "name": "stdout",
          "output_type": "stream",
          "text": [
            "loaded model\n"
          ]
        }
      ],
      "source": [
        "import torch\n",
        "import pyvene as pv\n",
        "\n",
        "_, tokenizer, gpt2 = pv.create_gpt2()\n",
        "\n",
        "config = pv.IntervenableConfig({\n",
        "    \"layer\": 0,\n",
        "    \"component\": \"mlp_input\"},\n",
        "    pv.AdditionIntervention\n",
        ")\n",
        "\n",
        "pv_gpt2 = pv.IntervenableModel(config, model=gpt2)\n",
        "\n",
        "intervened_outputs = pv_gpt2(\n",
        "    base = tokenizer(\n",
        "        \"The Space Needle is in downtown\",\n",
        "        return_tensors=\"pt\"\n",
        "    ),\n",
        "    unit_locations={\"base\": [[[0, 1, 2, 3]]]},\n",
        "    source_representations = torch.rand(gpt2.config.n_embd)\n",
        ")"
      ]
    },
    {
      "cell_type": "markdown",
      "id": "099ddf77",
      "metadata": {
        "id": "099ddf77"
      },
      "source": [
        "### Trainable Intervention\n",
        "Interventions can contain trainable parameters, and hook-up with the model to receive gradients end-to-end. They are often useful in searching for an particular interpretation of the representation.\n",
        "\n",
        "The following example does a single step gradient calculation to push the model to generate `Rome` after the intervention. If we can train such intervention at scale with low loss, it means you have a causal grab onto your model. In terms of interpretability, that means, somehow you find a representation (not the original one since its trained) that maps onto the `capital` output."
      ]
    },
    {
      "cell_type": "code",
      "execution_count": null,
      "id": "7f058ecd",
      "metadata": {
        "id": "7f058ecd",
        "outputId": "1312cc1a-3db1-4aad-be3b-a21fef269e7d"
      },
      "outputs": [
        {
          "name": "stdout",
          "output_type": "stream",
          "text": [
            "loaded model\n"
          ]
        }
      ],
      "source": [
        "import torch\n",
        "import pyvene as pv\n",
        "\n",
        "_, tokenizer, gpt2 = pv.create_gpt2()\n",
        "\n",
        "das_config = pv.IntervenableConfig({\n",
        "    \"layer\": 8,\n",
        "    \"component\": \"block_output\",\n",
        "    \"low_rank_dimension\": 1},\n",
        "    # this is a trainable low-rank rotation\n",
        "    pv.LowRankRotatedSpaceIntervention\n",
        ")\n",
        "\n",
        "das_gpt2 = pv.IntervenableModel(das_config, model=gpt2)\n",
        "\n",
        "last_hidden_state = das_gpt2(\n",
        "    base = tokenizer(\n",
        "        \"The capital of Spain is\",\n",
        "        return_tensors=\"pt\"\n",
        "    ),\n",
        "    sources = tokenizer(\n",
        "        \"The capital of Italy is\",\n",
        "        return_tensors=\"pt\"\n",
        "    ),\n",
        "    unit_locations={\"sources->base\": 3}\n",
        ")[-1].last_hidden_state[:,-1]\n",
        "\n",
        "# golden counterfacutual label as Rome\n",
        "label = tokenizer.encode(\n",
        "    \" Rome\", return_tensors=\"pt\")\n",
        "logits = torch.matmul(\n",
        "    last_hidden_state, gpt2.wte.weight.t())\n",
        "\n",
        "m = torch.nn.CrossEntropyLoss()\n",
        "loss = m(logits, label.view(-1))\n",
        "loss.backward()"
      ]
    },
    {
      "cell_type": "markdown",
      "id": "a8fd2b8e",
      "metadata": {
        "id": "a8fd2b8e"
      },
      "source": [
        "### Activation Collection with Intervention\n",
        "You can also collect activations with our provided `pv.CollectIntervention` intervention. More importantly, this can be used interchangably with other interventions. You can collect something from an intervened model."
      ]
    },
    {
      "cell_type": "code",
      "execution_count": null,
      "id": "6e6bd585",
      "metadata": {
        "id": "6e6bd585",
        "outputId": "218dec1b-9e34-48e5-8379-91f1028c4eda"
      },
      "outputs": [
        {
          "name": "stdout",
          "output_type": "stream",
          "text": [
            "loaded model\n"
          ]
        }
      ],
      "source": [
        "import torch\n",
        "import pyvene as pv\n",
        "\n",
        "_, tokenizer, gpt2 = pv.create_gpt2()\n",
        "\n",
        "config = pv.IntervenableConfig({\n",
        "    \"layer\": 10,\n",
        "    \"component\": \"block_output\",\n",
        "    \"intervention_type\": pv.CollectIntervention}\n",
        ")\n",
        "\n",
        "pv_gpt2 = pv.IntervenableModel(\n",
        "    config, model=gpt2)\n",
        "\n",
        "collected_activations = pv_gpt2(\n",
        "    base = tokenizer(\n",
        "        \"The capital of Spain is\",\n",
        "        return_tensors=\"pt\"\n",
        "    ), unit_locations={\"sources->base\": 3}\n",
        ")[0][-1]"
      ]
    },
    {
      "cell_type": "markdown",
      "id": "f7b0d0c6",
      "metadata": {
        "id": "f7b0d0c6"
      },
      "source": [
        "### Activation Collection at Downstream of a Intervened Model"
      ]
    },
    {
      "cell_type": "code",
      "execution_count": null,
      "id": "adcfcb05",
      "metadata": {
        "id": "adcfcb05",
        "outputId": "fe633bf8-5b1f-440c-a06a-cacccae1a4c5"
      },
      "outputs": [
        {
          "name": "stdout",
          "output_type": "stream",
          "text": [
            "loaded model\n"
          ]
        }
      ],
      "source": [
        "import torch\n",
        "import pyvene as pv\n",
        "\n",
        "_, tokenizer, gpt2 = pv.create_gpt2()\n",
        "\n",
        "config = pv.IntervenableConfig({\n",
        "    \"layer\": 8,\n",
        "    \"component\": \"block_output\",\n",
        "    \"intervention_type\": pv.VanillaIntervention}\n",
        ")\n",
        "\n",
        "config.add_intervention({\n",
        "    \"layer\": 10,\n",
        "    \"component\": \"block_output\",\n",
        "    \"intervention_type\": pv.CollectIntervention})\n",
        "\n",
        "pv_gpt2 = pv.IntervenableModel(\n",
        "    config, model=gpt2)\n",
        "\n",
        "collected_activations = pv_gpt2(\n",
        "    base = tokenizer(\n",
        "        \"The capital of Spain is\",\n",
        "        return_tensors=\"pt\"\n",
        "    ),\n",
        "    sources = [tokenizer(\n",
        "        \"The capital of Italy is\",\n",
        "        return_tensors=\"pt\"\n",
        "    ), None], unit_locations={\"sources->base\": 3}\n",
        ")[0][-1]"
      ]
    },
    {
      "cell_type": "markdown",
      "id": "a9e6e4d9",
      "metadata": {
        "id": "a9e6e4d9"
      },
      "source": [
        "### Intervene on a Single Neuron\n",
        "We want to provide a good user interface so that interventions can be done easily by people with less pytorch or programming experience. Meanwhile, we also want to be flexible and provide the depth of control required for highly specific tasks. Here is an example where we intervene on a specific neuron at a specific head of a layer in a model."
      ]
    },
    {
      "cell_type": "code",
      "execution_count": null,
      "id": "d25b6401",
      "metadata": {
        "id": "d25b6401",
        "outputId": "f6368690-fb05-44d7-ddd9-54fbf5ecc35c"
      },
      "outputs": [
        {
          "name": "stdout",
          "output_type": "stream",
          "text": [
            "loaded model\n"
          ]
        }
      ],
      "source": [
        "import torch\n",
        "import pyvene as pv\n",
        "\n",
        "_, tokenizer, gpt2 = pv.create_gpt2()\n",
        "\n",
        "config = pv.IntervenableConfig({\n",
        "    \"layer\": 8,\n",
        "    \"component\": \"head_attention_value_output\",\n",
        "    \"unit\": \"h.pos\",\n",
        "    \"intervention_type\": pv.CollectIntervention}\n",
        ")\n",
        "\n",
        "pv_gpt2 = pv.IntervenableModel(\n",
        "    config, model=gpt2)\n",
        "\n",
        "collected_activations = pv_gpt2(\n",
        "    base = tokenizer(\n",
        "        \"The capital of Spain is\",\n",
        "        return_tensors=\"pt\"\n",
        "    ),\n",
        "    unit_locations={\n",
        "        # GET_LOC is a helper.\n",
        "        # (3,3) means head 3 position 3\n",
        "        \"base\": pv.GET_LOC((3,3))\n",
        "    },\n",
        "    # the notion of subspace is used to target neuron 0.\n",
        "    subspaces=[0]\n",
        ")[0][-1]"
      ]
    },
    {
      "cell_type": "markdown",
      "id": "5692bc15",
      "metadata": {
        "id": "5692bc15"
      },
      "source": [
        "### Add New Intervention Type"
      ]
    },
    {
      "cell_type": "code",
      "execution_count": null,
      "id": "1597221a",
      "metadata": {
        "id": "1597221a",
        "outputId": "4a82b129-5dfb-4eda-afa9-4bf42cba330d"
      },
      "outputs": [
        {
          "name": "stdout",
          "output_type": "stream",
          "text": [
            "loaded model\n"
          ]
        }
      ],
      "source": [
        "import torch\n",
        "import pyvene as pv\n",
        "\n",
        "_, tokenizer, gpt2 = pv.create_gpt2()\n",
        "\n",
        "class MultiplierIntervention(\n",
        "  pv.ConstantSourceIntervention):\n",
        "    def __init__(self, **kwargs):\n",
        "        super().__init__()\n",
        "    def forward(\n",
        "    self, base, source=None, subspaces=None):\n",
        "        return base * 99.0\n",
        "# run with new intervention type\n",
        "pv_gpt2 = pv.IntervenableModel({\n",
        "  \"intervention_type\": MultiplierIntervention},\n",
        "  model=gpt2)\n",
        "intervened_outputs = pv_gpt2(\n",
        "  base = tokenizer(\"The capital of Spain is\",\n",
        "    return_tensors=\"pt\"),\n",
        "  unit_locations={\"base\": 3})"
      ]
    },
    {
      "cell_type": "markdown",
      "id": "079050f6",
      "metadata": {
        "id": "079050f6"
      },
      "source": [
        "### Recurrent NNs (Intervene a Specific Timestep)\n",
        "Existing intervention libraries focus on Transformer models. They often lack of supports for GRUs, LSTMs or any state-space model. The fundemental problem is in the hook mechanism provided by PyTorch. Hook is attached to a module before runtime. Models like GRUs will lead to undesired callback from the hook as there is no notion of state or time of the hook.\n",
        "\n",
        "We make our hook stateful, so you can intervene on recurrent NNs like GRUs. This notion of time will become useful when intervening on Transformers yet want to unroll the causal effect during generation as well."
      ]
    },
    {
      "cell_type": "code",
      "execution_count": null,
      "id": "7a53347a",
      "metadata": {
        "id": "7a53347a",
        "outputId": "85be2b45-cce5-4fcf-fb75-543f945f03f7"
      },
      "outputs": [
        {
          "name": "stdout",
          "output_type": "stream",
          "text": [
            "loaded model\n"
          ]
        }
      ],
      "source": [
        "import torch\n",
        "import pyvene as pv\n",
        "\n",
        "_, _, gru = pv.create_gru_classifier(\n",
        "    pv.GRUConfig(h_dim=32))\n",
        "\n",
        "pv_gru = pv.IntervenableModel({\n",
        "    \"component\": \"cell_output\",\n",
        "    \"unit\": \"t\",\n",
        "    \"intervention_type\": pv.ZeroIntervention},\n",
        "    model=gru)\n",
        "\n",
        "rand_t = torch.rand(1,10, gru.config.h_dim)\n",
        "\n",
        "intervened_outputs = pv_gru(\n",
        "  base = {\"inputs_embeds\": rand_t},\n",
        "  unit_locations={\"base\": 3})"
      ]
    },
    {
      "cell_type": "markdown",
      "id": "031dd5de",
      "metadata": {
        "id": "031dd5de"
      },
      "source": [
        "### Recurrent NNs (Intervene cross Time)"
      ]
    },
    {
      "cell_type": "code",
      "execution_count": null,
      "id": "b48166c0",
      "metadata": {
        "id": "b48166c0",
        "outputId": "68754cbb-06fd-47d8-e5ca-ed5b6861223f"
      },
      "outputs": [
        {
          "name": "stdout",
          "output_type": "stream",
          "text": [
            "loaded model\n"
          ]
        }
      ],
      "source": [
        "import torch\n",
        "import pyvene as pv\n",
        "\n",
        "# built-in helper to get a GRU\n",
        "_, _, gru = pv.create_gru_classifier(\n",
        "    pv.GRUConfig(h_dim=32))\n",
        "# wrap it with config\n",
        "pv_gru = pv.IntervenableModel({\n",
        "    \"component\": \"cell_output\",\n",
        "    # intervening on time\n",
        "    \"unit\": \"t\",\n",
        "    \"intervention_type\": pv.ZeroIntervention},\n",
        "    model=gru)\n",
        "# run an intervened forward pass\n",
        "rand_b = torch.rand(1,10, gru.config.h_dim)\n",
        "rand_s = torch.rand(1,10, gru.config.h_dim)\n",
        "intervened_outputs = pv_gru(\n",
        "  base = {\"inputs_embeds\": rand_b},\n",
        "  sources = [{\"inputs_embeds\": rand_s}],\n",
        "  # intervening time step\n",
        "  unit_locations={\"sources->base\": (6, 3)})"
      ]
    },
    {
      "cell_type": "markdown",
      "id": "121366c1",
      "metadata": {
        "id": "121366c1"
      },
      "source": [
        "### LMs Generation\n",
        "You can also intervene the generation call of LMs. Here is a simple example where we try to add a vector into the MLP output when the model decodes."
      ]
    },
    {
      "cell_type": "code",
      "execution_count": null,
      "id": "f718e2d6",
      "metadata": {
        "id": "f718e2d6",
        "outputId": "11b27fea-f851-456f-a68c-1e96c9a89d25"
      },
      "outputs": [
        {
          "name": "stderr",
          "output_type": "stream",
          "text": [
            "Setting `pad_token_id` to `eos_token_id`:50256 for open-end generation.\n"
          ]
        },
        {
          "name": "stdout",
          "output_type": "stream",
          "text": [
            "loaded model\n",
            "Once upon a time there was a little girl named Lucy. She was three years old and loved to explore. One day, Lucy was walking in the park when she saw a big, red balloon. She was so excited and wanted to play with it.\n",
            "\n",
            "But then, a big, mean man came and said, \"That balloon is mine! You can't have it!\" Lucy was very sad and started to cry.\n",
            "\n",
            "The man said, \"I'm sorry, but I need the balloon for my work. You can have it if you want.\"\n",
            "\n",
            "Lucy was so happy and said, \"Yes please!\" She took the balloon and ran away.\n",
            "\n",
            "But then, the man said, \"Wait! I have an idea. Let's make a deal. If you can guess what I'm going to give you, then you can have the balloon.\"\n",
            "\n",
            "Lucy thought for a moment and then said, \"I guess I'll have to get the balloon.\"\n",
            "\n",
            "The man smiled and said, \"That's a good guess! Here you go.\"\n",
            "\n",
            "Lucy was so happy and thanked the man. She hugged the balloon and ran off to show her mom.\n",
            "\n",
            "The end.\n",
            "\n"
          ]
        }
      ],
      "source": [
        "import torch\n",
        "import pyvene as pv\n",
        "\n",
        "# built-in helper to get tinystore\n",
        "_, tokenizer, tinystory = pv.create_gpt_neo()\n",
        "emb_happy = tinystory.transformer.wte(\n",
        "    torch.tensor(14628))\n",
        "\n",
        "pv_tinystory = pv.IntervenableModel([{\n",
        "    \"layer\": l,\n",
        "    \"component\": \"mlp_output\",\n",
        "    \"intervention_type\": pv.AdditionIntervention\n",
        "    } for l in range(tinystory.config.num_layers)],\n",
        "    model=tinystory\n",
        ")\n",
        "# prompt and generate\n",
        "prompt = tokenizer(\n",
        "    \"Once upon a time there was\", return_tensors=\"pt\")\n",
        "unintervened_story, intervened_story = pv_tinystory.generate(\n",
        "    prompt, source_representations=emb_happy*0.3, max_length=256\n",
        ")\n",
        "\n",
        "print(tokenizer.decode(\n",
        "    intervened_story[0],\n",
        "    skip_special_tokens=True\n",
        "))"
      ]
    },
    {
      "cell_type": "markdown",
      "id": "e628990d",
      "metadata": {
        "id": "e628990d"
      },
      "source": [
        "intervene on generation with source example passed in. The result will be slightly different since we no longer have a static vector to be added in; it is layerwise addition."
      ]
    },
    {
      "cell_type": "code",
      "execution_count": null,
      "id": "087541f1",
      "metadata": {
        "id": "087541f1",
        "outputId": "41911169-5aa8-4e1f-c5f4-087bcca821c3"
      },
      "outputs": [
        {
          "name": "stderr",
          "output_type": "stream",
          "text": [
            "The attention mask and the pad token id were not set. As a consequence, you may observe unexpected behavior. Please pass your input's `attention_mask` to obtain reliable results.\n",
            "Setting `pad_token_id` to `eos_token_id`:50256 for open-end generation.\n"
          ]
        },
        {
          "name": "stdout",
          "output_type": "stream",
          "text": [
            "loaded model\n"
          ]
        },
        {
          "name": "stderr",
          "output_type": "stream",
          "text": [
            "The attention mask and the pad token id were not set. As a consequence, you may observe unexpected behavior. Please pass your input's `attention_mask` to obtain reliable results.\n",
            "Setting `pad_token_id` to `eos_token_id`:50256 for open-end generation.\n"
          ]
        },
        {
          "name": "stdout",
          "output_type": "stream",
          "text": [
            "Once upon a time there was a little girl named Lucy. She was very excited because she was going to the park. She wanted to go to the park and play.\n",
            "\n",
            "When she got to the park, she saw a big slide. She was so excited! She ran to the slide and started to climb up. She was so happy.\n",
            "\n",
            "But then she saw something else. It was a big, scary dog. It was a big, mean dog. He was barking and growling at her. Lucy was scared. She didn't know what to do.\n",
            "\n",
            "Suddenly, she heard a voice. It was her mommy. She said, \"Don't worry, Lucy. I will help you. I will protect you.\"\n",
            "\n",
            "Lucy was so happy. She hugged her mommy and they went to the park. They played together and had lots of fun. Lucy was so happy. She was no longer scared.\n",
            "\n"
          ]
        }
      ],
      "source": [
        "import torch\n",
        "import pyvene as pv\n",
        "\n",
        "# built-in helper to get tinystore\n",
        "_, tokenizer, tinystory = pv.create_gpt_neo()\n",
        "\n",
        "def pv_patcher(b, s): return b + s*0.1\n",
        "\n",
        "pv_tinystory = pv.IntervenableModel([{\n",
        "    \"layer\": l,\n",
        "    \"component\": \"mlp_output\",\n",
        "    \"intervention\": pv_patcher\n",
        "    } for l in range(tinystory.config.num_layers)],\n",
        "    model=tinystory\n",
        ")\n",
        "# prompt and generate\n",
        "prompt = tokenizer(\n",
        "    \"Once upon a time there was\", return_tensors=\"pt\")\n",
        "happy_prompt = tokenizer(\n",
        "    \" Happy\", return_tensors=\"pt\")\n",
        "_, intervened_story = pv_tinystory.generate(\n",
        "    prompt, happy_prompt,\n",
        "    unit_locations = {\"sources->base\": 0},\n",
        "    max_length=256\n",
        ")\n",
        "\n",
        "print(tokenizer.decode(\n",
        "    intervened_story[0],\n",
        "    skip_special_tokens=True\n",
        "))"
      ]
    },
    {
      "cell_type": "markdown",
      "id": "26d25dc6",
      "metadata": {
        "id": "26d25dc6"
      },
      "source": [
        "### Debiasing with Backpack LMs\n",
        "\n",
        "Models like [Backpack LMs](https://arxiv.org/pdf/2305.16765.pdf) are built with highly interpretable model components. In its original paper, one motivating experiment is using the sense vectors to debias. Here, we try to reproduce one of the experiments in Fig. 3 (pg. 8)."
      ]
    },
    {
      "cell_type": "code",
      "execution_count": null,
      "id": "841e5a5b",
      "metadata": {
        "id": "841e5a5b",
        "outputId": "b95118f7-cf7c-4e4a-d366-16e5a7ca072f"
      },
      "outputs": [
        {
          "name": "stderr",
          "output_type": "stream",
          "text": [
            "The argument `trust_remote_code` is to be used with Auto classes. It has no effect here and is ignored.\n"
          ]
        },
        {
          "name": "stdout",
          "output_type": "stream",
          "text": [
            "loaded model\n"
          ]
        },
        {
          "data": {
            "image/png": "[encoded data removed]",
            "text/plain": [
              "<Figure size 400x200 with 1 Axes>"
            ]
          },
          "metadata": {
            "image/png": {
              "height": 200,
              "width": 400
            }
          },
          "output_type": "display_data"
        },
        {
          "name": "stdout",
          "output_type": "stream",
          "text": [
            "\n"
          ]
        },
        {
          "data": {
            "image/png": "[encoded data removed]",
            "text/plain": [
              "<Figure size 400x200 with 1 Axes>"
            ]
          },
          "metadata": {
            "image/png": {
              "height": 200,
              "width": 400
            }
          },
          "output_type": "display_data"
        },
        {
          "name": "stdout",
          "output_type": "stream",
          "text": [
            "\n"
          ]
        },
        {
          "data": {
            "image/png": "[encoded data removed]",
            "text/plain": [
              "<Figure size 400x200 with 1 Axes>"
            ]
          },
          "metadata": {
            "image/png": {
              "height": 200,
              "width": 400
            }
          },
          "output_type": "display_data"
        },
        {
          "name": "stdout",
          "output_type": "stream",
          "text": [
            "\n"
          ]
        }
      ],
      "source": [
        "import torch\n",
        "import pandas as pd\n",
        "from plotnine import ggplot, aes, geom_bar, theme, element_text, labs\n",
        "\n",
        "import pyvene as pv\n",
        "_, tokenizer, backpack_gpt2 = pv.create_backpack_gpt2()\n",
        "\n",
        "class MultiplierIntervention(pv.ConstantSourceIntervention):\n",
        "    \"\"\"Multiplier intervention\"\"\"\n",
        "\n",
        "    def __init__(self, multiplier, **kwargs):\n",
        "        super().__init__(**kwargs)\n",
        "        self.register_buffer('multiplier', torch.tensor(multiplier))\n",
        "\n",
        "    def forward(self, base, source=None, subspaces=None):\n",
        "        return base * self.multiplier\n",
        "\n",
        "    def __str__(self):\n",
        "        return f\"MultiplierIntervention()\"\n",
        "\n",
        "for c in [0, 0.7, 1]:\n",
        "    pv_backpack_gpt2 = pv.IntervenableModel({\n",
        "        \"component\": \"backpack.sense_network.output\",\n",
        "        \"intervention\": MultiplierIntervention(c), \"unit\": \"sense.pos\"},\n",
        "        model=backpack_gpt2\n",
        "    )\n",
        "    base = tokenizer(\"When the nurse walked into the room,\",\n",
        "                     return_tensors=\"pt\", return_attention_mask=False)\n",
        "    intervened_outputs = pv_backpack_gpt2(\n",
        "        base,\n",
        "        unit_locations={\n",
        "            # use   pv.GET_LOC((nv, s))\n",
        "            \"base\": pv.GET_LOC((10,2))\n",
        "        }\n",
        "    )\n",
        "\n",
        "    # plotting\n",
        "    probs = torch.nn.functional.softmax(\n",
        "        intervened_outputs[1].logits[0][-1], dim=0)\n",
        "    data = pv.top_vals(\n",
        "        tokenizer, probs, n=9,\n",
        "        return_results=True\n",
        "    )\n",
        "    df = pd.DataFrame(data, columns=['Word', 'Probability'])\n",
        "    df['Word'] = pd.Categorical(df['Word'], categories=[x[0] for x in data], ordered=True)\n",
        "    plot = (ggplot(df, aes(x='Word', y='Probability'))\n",
        "            + geom_bar(stat='identity')\n",
        "            + theme(axis_text_x=element_text(rotation=90, hjust=1),\n",
        "                    figure_size=(4, 2))\n",
        "            + labs(title=f\"mul({c})\")\n",
        "    )\n",
        "    print(plot)"
      ]
    },
    {
      "cell_type": "markdown",
      "id": "cb539f4b",
      "metadata": {
        "id": "cb539f4b"
      },
      "source": [
        "### Saving and Loading\n",
        "This is one of the benefits of program abstraction. We abstract out the intervention and its schema, so we have a user friendly interface. Furthermore, it allows us to have a serializable configuration file that tells everything about your configuration.\n",
        "\n",
        "You can then save, share and load interventions easily. Note that you still need your access to the data, if you need to sample **Source** representations from other examples. But we think this is doable via a separate HuggingFace datasets upload. In the future, there could be an option of coupling this configuration with a specific remote dataset as well."
      ]
    },
    {
      "cell_type": "code",
      "execution_count": null,
      "id": "272f3773",
      "metadata": {
        "id": "272f3773",
        "outputId": "883a37b4-de3d-4561-9e8c-144262aece73"
      },
      "outputs": [
        {
          "name": "stdout",
          "output_type": "stream",
          "text": [
            "loaded model\n",
            "Directory './tmp/' already exists.\n"
          ]
        }
      ],
      "source": [
        "import torch\n",
        "import pyvene as pv\n",
        "\n",
        "_, tokenizer, gpt2 = pv.create_gpt2()\n",
        "\n",
        "# run with new intervention type\n",
        "pv_gpt2 = pv.IntervenableModel({\n",
        "  \"intervention_type\": pv.ZeroIntervention},\n",
        "  model=gpt2)\n",
        "\n",
        "pv_gpt2.save(\"./tmp/\")"
      ]
    },
    {
      "cell_type": "code",
      "execution_count": null,
      "id": "50b894b4",
      "metadata": {
        "id": "50b894b4",
        "outputId": "255b6c78-8daa-4187-8b39-fc19b8dedbf2"
      },
      "outputs": [
        {
          "name": "stderr",
          "output_type": "stream",
          "text": [
            "WARNING:root:The key is provided in the config. Assuming this is loaded from a pretrained module.\n",
            "WARNING:root:Loading trainable intervention from intkey_layer.0.repr.block_output.unit.pos.nunit.1#0.bin.\n"
          ]
        }
      ],
      "source": [
        "pv_gpt2 = pv.IntervenableModel.load(\n",
        "    \"./tmp/\",\n",
        "    model=gpt2)"
      ]
    },
    {
      "cell_type": "markdown",
      "id": "b2d07ca8",
      "metadata": {
        "id": "b2d07ca8"
      },
      "source": [
        "### Multi-Source Interchange Intervention (Parallel Mode)\n",
        "\n",
        "What is multi-source? In the examples above, interventions are at most across two examples. We support interventions across many examples. You can sample representations from two inputs, and plut them into a single **Base**."
      ]
    },
    {
      "cell_type": "code",
      "execution_count": null,
      "id": "847410a8",
      "metadata": {
        "id": "847410a8",
        "outputId": "8e62c07b-8d48-4945-d56b-2b4346d0d8b3"
      },
      "outputs": [
        {
          "name": "stdout",
          "output_type": "stream",
          "text": [
            "loaded model\n",
            "_the                 0.07233363389968872\n",
            "_a                   0.05731499195098877\n",
            "_not                 0.04443885385990143\n",
            "_Italian             0.033642884343862534\n",
            "_often               0.024385808035731316\n",
            "_called              0.022171705961227417\n",
            "_known               0.017808808013796806\n",
            "_that                0.016059240326285362\n",
            "_\"                   0.012973357923328876\n",
            "_an                  0.012878881767392159\n"
          ]
        }
      ],
      "source": [
        "import torch\n",
        "import pyvene as pv\n",
        "\n",
        "_, tokenizer, gpt2 = pv.create_gpt2()\n",
        "\n",
        "parallel_config = pv.IntervenableConfig([\n",
        "  {\"layer\": 3, \"component\": \"block_output\"},\n",
        "  {\"layer\": 3, \"component\": \"block_output\"}],\n",
        "  # intervene on base at the same time\n",
        "  mode=\"parallel\")\n",
        "parallel_gpt2 = pv.IntervenableModel(\n",
        "  parallel_config, model=gpt2)\n",
        "base = tokenizer(\n",
        "  \"The capital of Spain is\",\n",
        "  return_tensors=\"pt\")\n",
        "sources = [\n",
        "  tokenizer(\"The language of Spain is\",\n",
        "    return_tensors=\"pt\"),\n",
        "  tokenizer(\"The capital of Italy is\",\n",
        "    return_tensors=\"pt\")]\n",
        "intervened_outputs = parallel_gpt2(\n",
        "    base, sources,\n",
        "    {\"sources->base\": (\n",
        "    # each list has a dimensionality of\n",
        "    # [num_intervention, batch, num_unit]\n",
        "    [[[1]],[[3]]],  [[[1]],[[3]]])}\n",
        ")\n",
        "\n",
        "distrib = pv.embed_to_distrib(\n",
        "    gpt2, intervened_outputs[1].last_hidden_state, logits=False)\n",
        "pv.top_vals(tokenizer, distrib[0][-1], n=10)"
      ]
    },
    {
      "cell_type": "markdown",
      "id": "2f93402c",
      "metadata": {
        "id": "2f93402c"
      },
      "source": [
        "### Multi-Source Interchange Intervention (Serial Mode)\n",
        "\n",
        "Or you can do them sequentially, where you intervene among your **Source** examples, and get some intermediate states before merging the activations into the **Base** run."
      ]
    },
    {
      "cell_type": "code",
      "execution_count": null,
      "id": "5e5752dc",
      "metadata": {
        "id": "5e5752dc",
        "outputId": "e0414933-d5e4-4953-b4e0-f8a125954bdc"
      },
      "outputs": [
        {
          "name": "stdout",
          "output_type": "stream",
          "text": [
            "_the                 0.06737838685512543\n",
            "_a                   0.059834375977516174\n",
            "_not                 0.04629501700401306\n",
            "_Italian             0.03623826056718826\n",
            "_often               0.021700192242860794\n",
            "_called              0.01840786263346672\n",
            "_that                0.0157712884247303\n",
            "_known               0.014391838572919369\n",
            "_an                  0.013535155914723873\n",
            "_very                0.013022392988204956\n"
          ]
        }
      ],
      "source": [
        "config = pv.IntervenableConfig([\n",
        "  {\"layer\": 3, \"component\": \"block_output\"},\n",
        "  {\"layer\": 10, \"component\": \"block_output\"}],\n",
        "  # intervene on base one after another\n",
        "  mode=\"serial\")\n",
        "pv_gpt2 = pv.IntervenableModel(\n",
        "  config, model=gpt2)\n",
        "base = tokenizer(\n",
        "  \"The capital of Spain is\",\n",
        "  return_tensors=\"pt\")\n",
        "sources = [\n",
        "  tokenizer(\"The language of Spain is\",\n",
        "    return_tensors=\"pt\"),\n",
        "  tokenizer(\"The capital of Italy is\",\n",
        "    return_tensors=\"pt\")]\n",
        "\n",
        "intervened_outputs = pv_gpt2(\n",
        "    base, sources,\n",
        "    # intervene in serial at two positions\n",
        "    {\"source_0->source_1\": 1,\n",
        "     \"source_1->base\"    : 4})\n",
        "\n",
        "distrib = pv.embed_to_distrib(\n",
        "    gpt2, intervened_outputs[1].last_hidden_state, logits=False)\n",
        "pv.top_vals(tokenizer, distrib[0][-1], n=10)"
      ]
    },
    {
      "cell_type": "markdown",
      "id": "28621880",
      "metadata": {
        "id": "28621880"
      },
      "source": [
        "### Multi-Source Interchange Intervention with Subspaces (Parallel Mode)"
      ]
    },
    {
      "cell_type": "code",
      "execution_count": null,
      "id": "773aba2e",
      "metadata": {
        "id": "773aba2e",
        "outputId": "bd72ace4-bc18-447b-9030-706874e102cd"
      },
      "outputs": [
        {
          "name": "stdout",
          "output_type": "stream",
          "text": [
            "loaded model\n"
          ]
        }
      ],
      "source": [
        "import torch\n",
        "import pyvene as pv\n",
        "\n",
        "_, tokenizer, gpt2 = pv.create_gpt2()\n",
        "\n",
        "config = pv.IntervenableConfig([\n",
        "    {\"layer\": 0, \"component\": \"block_output\",\n",
        "     \"subspace_partition\":\n",
        "         [[0, 128], [128, 256]]}]*2,\n",
        "    intervention_types=pv.VanillaIntervention,\n",
        "    # act in parallel\n",
        "    mode=\"parallel\"\n",
        ")\n",
        "pv_gpt2 = pv.IntervenableModel(config, model=gpt2)\n",
        "\n",
        "base = tokenizer(\"The capital of Spain is\", return_tensors=\"pt\")\n",
        "sources = [tokenizer(\"The capital of Italy is\", return_tensors=\"pt\"),\n",
        "          tokenizer(\"The capital of China is\", return_tensors=\"pt\")]\n",
        "\n",
        "intervened_outputs = pv_gpt2(\n",
        "    base, sources,\n",
        "    # on same position\n",
        "    {\"sources->base\": 4},\n",
        "    # on different subspaces\n",
        "    subspaces=[[[0]], [[1]]],\n",
        ")"
      ]
    },
    {
      "cell_type": "markdown",
      "id": "7223603f",
      "metadata": {
        "id": "7223603f"
      },
      "source": [
        "### Multi-Source Interchange Intervention with Subspaces (Serial Mode)"
      ]
    },
    {
      "cell_type": "code",
      "execution_count": null,
      "id": "305e0607",
      "metadata": {
        "id": "305e0607",
        "outputId": "ff891f4a-aec3-446f-b143-0b56bb90fe8a"
      },
      "outputs": [
        {
          "name": "stdout",
          "output_type": "stream",
          "text": [
            "loaded model\n"
          ]
        }
      ],
      "source": [
        "import torch\n",
        "import pyvene as pv\n",
        "\n",
        "_, tokenizer, gpt2 = pv.create_gpt2()\n",
        "\n",
        "config = pv.IntervenableConfig([\n",
        "    {\"layer\": 0, \"component\": \"block_output\",\n",
        "     \"subspace_partition\": [[0, 128], [128, 256]]},\n",
        "    {\"layer\": 2, \"component\": \"block_output\",\n",
        "     \"subspace_partition\": [[0, 128], [128, 256]]}],\n",
        "    intervention_types=pv.VanillaIntervention,\n",
        "    # act in parallel\n",
        "    mode=\"serial\"\n",
        ")\n",
        "pv_gpt2 = pv.IntervenableModel(config, model=gpt2)\n",
        "\n",
        "base = tokenizer(\"The capital of Spain is\", return_tensors=\"pt\")\n",
        "sources = [tokenizer(\"The capital of Italy is\", return_tensors=\"pt\"),\n",
        "          tokenizer(\"The capital of China is\", return_tensors=\"pt\")]\n",
        "\n",
        "intervened_outputs = pv_gpt2(\n",
        "    base, sources,\n",
        "    # serialized intervention\n",
        "    # order is based on sources list\n",
        "    {\"source_0->source_1\": 3, \"source_1->base\": 4},\n",
        "    # on different subspaces\n",
        "    subspaces=[[[0]], [[1]]],\n",
        ")"
      ]
    },
    {
      "cell_type": "markdown",
      "id": "4b5fcb37",
      "metadata": {
        "id": "4b5fcb37"
      },
      "source": [
        "### Interchange Intervention Training (IIT)\n",
        "Interchange intervention training (IIT) is a technique of inducing causal structures into neural models. This library naturally supports this. By training IIT, you can simply turn the gradient on for the wrapping model. In this way, your model can be trained with your interventional signals."
      ]
    },
    {
      "cell_type": "code",
      "execution_count": null,
      "id": "8c7dde89",
      "metadata": {
        "id": "8c7dde89",
        "outputId": "7364e09f-47f0-42a5-84d4-83478d21bd19"
      },
      "outputs": [
        {
          "name": "stdout",
          "output_type": "stream",
          "text": [
            "loaded model\n",
            "number of params: 124439808\n"
          ]
        },
        {
          "data": {
            "text/plain": [
              "tensor([[[ 0.0022, -0.1783, -0.2780,  ...,  0.0477, -0.2069,  0.1093],\n",
              "         [ 0.0385,  0.0886, -0.6608,  ...,  0.0104, -0.4946,  0.6148],\n",
              "         [ 0.2377, -0.2312,  0.0308,  ...,  0.1085,  0.0456,  0.2494],\n",
              "         [-0.0034,  0.0088, -0.2219,  ...,  0.1198,  0.0759,  0.3953],\n",
              "         [ 0.4635,  0.2698, -0.3185,  ..., -0.2946,  0.2634,  0.2714]]],\n",
              "       grad_fn=<SubBackward0>)"
            ]
          },
          "execution_count": 2,
          "metadata": {},
          "output_type": "execute_result"
        }
      ],
      "source": [
        "import torch\n",
        "import pyvene as pv\n",
        "\n",
        "_, tokenizer, gpt2 = pv.create_gpt2()\n",
        "\n",
        "pv_gpt2 = pv.IntervenableModel({\n",
        "    \"layer\": 8, \"component\": \"block_output\"},\n",
        "    model=gpt2\n",
        ")\n",
        "\n",
        "pv_gpt2.enable_model_gradients()\n",
        "print(\"number of params:\", pv_gpt2.count_parameters())\n",
        "\n",
        "# run counterfactual forward as usual\n",
        "base = tokenizer(\"The capital of Spain is\", return_tensors=\"pt\")\n",
        "sources = [\n",
        "    tokenizer(\"The capital of Italy is\", return_tensors=\"pt\"),\n",
        "]\n",
        "base_outputs, counterfactual_outputs = pv_gpt2(\n",
        "    base, sources, {\"sources->base\": ([[[3]]], [[[3]]])}\n",
        ")\n",
        "print(counterfactual_outputs.last_hidden_state - base_outputs.last_hidden_state)\n",
        "# call backward will put gradients on model's weights\n",
        "counterfactual_outputs.last_hidden_state.sum().backward()"
      ]
    },
    {
      "cell_type": "markdown",
      "id": "b8c7ccad",
      "metadata": {
        "id": "b8c7ccad"
      },
      "source": [
        "## pyvene 102\n",
        "Now, you are pretty familiar with pyvene basic APIs. There are more to come. We support all sorts of weird interventions, and we encapsulate them as objects so that, even they are super weird (e.g., nested, multiple locations, different types), you can share them easily with others. BTW, if the intervention is trainable, the artifacts will be saved and shared as well.\n",
        "\n",
        "With that, here are a couple of additional APIs.\n",
        "\n",
        "### Grouping\n",
        "\n",
        "You can group interventions together so that they always receive the same input when you want to use them to get activations at different places. Here is an example, where you are taking in the same **Source** example, you fetch activations twice: once in position 3 and layer 0, once in position 4 and layer 2. You don't have to pass in another dummy **Source**."
      ]
    },
    {
      "cell_type": "code",
      "execution_count": null,
      "id": "84afd62c",
      "metadata": {
        "id": "84afd62c",
        "outputId": "1979aeb6-da10-4625-e83b-0496b76d1ba9"
      },
      "outputs": [
        {
          "name": "stdout",
          "output_type": "stream",
          "text": [
            "loaded model\n"
          ]
        }
      ],
      "source": [
        "import torch\n",
        "import pyvene as pv\n",
        "\n",
        "_, tokenizer, gpt2 = pv.create_gpt2()\n",
        "\n",
        "config = pv.IntervenableConfig([\n",
        "    {\"layer\": 0, \"component\": \"block_output\", \"group_key\": 0},\n",
        "    {\"layer\": 2, \"component\": \"block_output\", \"group_key\": 0}],\n",
        "    intervention_types=pv.VanillaIntervention,\n",
        ")\n",
        "\n",
        "pv_gpt2 = pv.IntervenableModel(config, model=gpt2)\n",
        "\n",
        "base = tokenizer(\"The capital of Spain is\", return_tensors=\"pt\")\n",
        "sources = [tokenizer(\"The capital of Italy is\", return_tensors=\"pt\")]\n",
        "intervened_outputs = pv_gpt2(\n",
        "    base, sources,\n",
        "    {\"sources->base\": ([\n",
        "        [[3]], [[4]] # these two are for two interventions\n",
        "    ], [             # source position 3 into base position 4\n",
        "        [[3]], [[4]]\n",
        "    ])}\n",
        ")"
      ]
    },
    {
      "cell_type": "markdown",
      "id": "34aeb892",
      "metadata": {
        "id": "34aeb892"
      },
      "source": [
        "### Intervention Skipping in Runtime\n",
        "You may configure a lot of interventions, but during training, not every example will have to use all of them. So, you can skip interventions for different examples differently."
      ]
    },
    {
      "cell_type": "code",
      "execution_count": null,
      "id": "61cd8fc9",
      "metadata": {
        "id": "61cd8fc9",
        "outputId": "b1ac3d2e-64e1-42a2-c732-33f1971b1ccb"
      },
      "outputs": [
        {
          "name": "stdout",
          "output_type": "stream",
          "text": [
            "loaded model\n",
            "True True\n"
          ]
        }
      ],
      "source": [
        "import torch\n",
        "import pyvene as pv\n",
        "\n",
        "_, tokenizer, gpt2 = pv.create_gpt2()\n",
        "\n",
        "config = pv.IntervenableConfig([\n",
        "    # these are equivalent interventions\n",
        "    # we create them on purpose\n",
        "    {\"layer\": 0, \"component\": \"block_output\"},\n",
        "    {\"layer\": 0, \"component\": \"block_output\"},\n",
        "    {\"layer\": 0, \"component\": \"block_output\"}],\n",
        "    intervention_types=pv.VanillaIntervention,\n",
        ")\n",
        "pv_gpt2 = pv.IntervenableModel(config, model=gpt2)\n",
        "\n",
        "base = tokenizer(\"The capital of Spain is\", return_tensors=\"pt\")\n",
        "source = tokenizer(\"The capital of Italy is\", return_tensors=\"pt\")\n",
        "# skipping 1, 2 and 3\n",
        "_, pv_out1 = pv_gpt2(base, [None, None, source],\n",
        "    {\"sources->base\": ([None, None, [[4]]], [None, None, [[4]]])})\n",
        "_, pv_out2 = pv_gpt2(base, [None, source, None],\n",
        "    {\"sources->base\": ([None, [[4]], None], [None, [[4]], None])})\n",
        "_, pv_out3 = pv_gpt2(base, [source, None, None],\n",
        "    {\"sources->base\": ([[[4]], None, None], [[[4]], None, None])})\n",
        "# should have the same results\n",
        "print(\n",
        "    torch.equal(pv_out1.last_hidden_state, pv_out2.last_hidden_state),\n",
        "    torch.equal(pv_out2.last_hidden_state, pv_out3.last_hidden_state)\n",
        ")"
      ]
    },
    {
      "cell_type": "markdown",
      "id": "d9df6acd",
      "metadata": {
        "id": "d9df6acd"
      },
      "source": [
        "### Subspace Partition\n",
        "You can partition your subspace before hand. If you don't, the library assumes you each neuron is in its own subspace. In this example, you partition your subspace into two continous chunk, `[0, 128), [128,256)`, which means all the neurons from index 0 upto 127 are along to partition 1. During runtime, you can intervene on all the neurons in the same parition together."
      ]
    },
    {
      "cell_type": "code",
      "execution_count": null,
      "id": "3a66bbeb",
      "metadata": {
        "id": "3a66bbeb",
        "outputId": "9d02e27f-7670-43e2-b26a-beacd11a1500"
      },
      "outputs": [
        {
          "name": "stdout",
          "output_type": "stream",
          "text": [
            "loaded model\n"
          ]
        }
      ],
      "source": [
        "import torch\n",
        "import pyvene as pv\n",
        "\n",
        "_, tokenizer, gpt2 = pv.create_gpt2()\n",
        "\n",
        "config = pv.IntervenableConfig([\n",
        "    # they are linked to manipulate the same representation\n",
        "    # but in different subspaces\n",
        "    {\"layer\": 0, \"component\": \"block_output\",\n",
        "     # subspaces can be partitioned into continuous chunks\n",
        "     # [i, j] are the boundary indices\n",
        "     \"subspace_partition\": [[0, 128], [128, 256]]}],\n",
        "    intervention_types=pv.VanillaIntervention,\n",
        ")\n",
        "pv_gpt2 = pv.IntervenableModel(config, model=gpt2)\n",
        "\n",
        "base = tokenizer(\"The capital of Spain is\", return_tensors=\"pt\")\n",
        "source = tokenizer(\"The capital of Italy is\", return_tensors=\"pt\")\n",
        "\n",
        "# using intervention skipping for subspace\n",
        "intervened_outputs = pv_gpt2(\n",
        "    base, [source],\n",
        "    {\"sources->base\": 4},\n",
        "    # intervene only only dimensions from 128 to 256\n",
        "    subspaces=1,\n",
        ")"
      ]
    },
    {
      "cell_type": "markdown",
      "id": "0fdde257",
      "metadata": {
        "id": "0fdde257"
      },
      "source": [
        "### Intervention Linking\n",
        "Interventions can be linked to share weights and share subspaces. Here is an example of how to link interventions together. If interventions are trainable, then their weights are tied as well.\n",
        "\n",
        "Why this is useful? it is because sometimes, you may want to intervene on different subspaces differently. Say you have a representation in a size of 512, and you hypothesize the first half represents A, and the second half represents B, you can then use the subspace intervention to test it out. With trainable interventions, you can also optimize your interventions on the same representation yet with different subspaces."
      ]
    },
    {
      "cell_type": "code",
      "execution_count": null,
      "id": "eec19da9",
      "metadata": {
        "id": "eec19da9",
        "outputId": "912783e1-1d3c-4e56-8bc8-e7c117cb14d8"
      },
      "outputs": [
        {
          "name": "stdout",
          "output_type": "stream",
          "text": [
            "loaded model\n",
            "True\n",
            "True\n"
          ]
        }
      ],
      "source": [
        "import torch\n",
        "import pyvene as pv\n",
        "\n",
        "_, tokenizer, gpt2 = pv.create_gpt2()\n",
        "\n",
        "config = pv.IntervenableConfig([\n",
        "    # they are linked to manipulate the same representation\n",
        "    # but in different subspaces\n",
        "    {\"layer\": 0, \"component\": \"block_output\",\n",
        "     \"subspace_partition\": [[0, 128], [128, 256]], \"intervention_link_key\": 0},\n",
        "    {\"layer\": 0, \"component\": \"block_output\",\n",
        "     \"subspace_partition\": [[0, 128], [128, 256]], \"intervention_link_key\": 0}],\n",
        "    intervention_types=pv.VanillaIntervention,\n",
        ")\n",
        "pv_gpt2 = pv.IntervenableModel(config, model=gpt2)\n",
        "\n",
        "base = tokenizer(\"The capital of Spain is\", return_tensors=\"pt\")\n",
        "source = tokenizer(\"The capital of Italy is\", return_tensors=\"pt\")\n",
        "\n",
        "# using intervention skipping for subspace\n",
        "_, pv_out1 = pv_gpt2(\n",
        "    base, [None, source],\n",
        "    # 4 means token position 4\n",
        "    {\"sources->base\": ([None, [[4]]], [None, [[4]]])},\n",
        "    # 1 means the second partition in the config\n",
        "    subspaces=[None, [[1]]],\n",
        ")\n",
        "_, pv_out2 = pv_gpt2(\n",
        "    base,\n",
        "    [source, None],\n",
        "    {\"sources->base\": ([[[4]], None], [[[4]], None])},\n",
        "    subspaces=[[[1]], None],\n",
        ")\n",
        "print(torch.equal(pv_out1.last_hidden_state, pv_out2.last_hidden_state))\n",
        "\n",
        "# subspaces provide a list of index and they can be in any order\n",
        "_, pv_out3 = pv_gpt2(\n",
        "    base,\n",
        "    [source, source],\n",
        "    {\"sources->base\": ([[[4]], [[4]]], [[[4]], [[4]]])},\n",
        "    subspaces=[[[0]], [[1]]],\n",
        ")\n",
        "_, pv_out4 = pv_gpt2(\n",
        "    base,\n",
        "    [source, source],\n",
        "    {\"sources->base\": ([[[4]], [[4]]], [[[4]], [[4]]])},\n",
        "    subspaces=[[[1]], [[0]]],\n",
        ")\n",
        "print(torch.equal(pv_out3.last_hidden_state, pv_out4.last_hidden_state))"
      ]
    },
    {
      "cell_type": "markdown",
      "id": "243f146f-1b9a-4574-ba2c-ebf455a96c16",
      "metadata": {
        "id": "243f146f-1b9a-4574-ba2c-ebf455a96c16"
      },
      "source": [
        "Other than intervention linking, you can also share interventions at the same component across multiple positions via setting a flag in the intervention object. It will have the same effect as creating one intervention per location and linking them all together."
      ]
    },
    {
      "cell_type": "code",
      "execution_count": null,
      "id": "7c647943-c7e1-4024-8c07-b51062e668ba",
      "metadata": {
        "id": "7c647943-c7e1-4024-8c07-b51062e668ba",
        "outputId": "a89110fe-a8a8-4700-869f-b9ca21b420f5"
      },
      "outputs": [
        {
          "name": "stdout",
          "output_type": "stream",
          "text": [
            "loaded model\n"
          ]
        },
        {
          "data": {
            "text/plain": [
              "tensor([[[0., 0., 0.,  ..., 0., 0., 0.],\n",
              "         [0., 0., 0.,  ..., 0., 0., 0.],\n",
              "         [0., 0., 0.,  ..., 0., 0., 0.],\n",
              "         [0., 0., 0.,  ..., 0., 0., 0.],\n",
              "         [0., 0., 0.,  ..., 0., 0., 0.]]])"
            ]
          },
          "execution_count": 24,
          "metadata": {},
          "output_type": "execute_result"
        }
      ],
      "source": [
        "import torch\n",
        "import pyvene as pv\n",
        "\n",
        "_, tokenizer, gpt2 = pv.create_gpt2()\n",
        "\n",
        "config = pv.IntervenableConfig([\n",
        "    # they are linked to manipulate the same representation\n",
        "    # but in different subspaces\n",
        "    {\"layer\": 0, \"component\": \"block_output\", \"intervention_link_key\": 0},\n",
        "    {\"layer\": 0, \"component\": \"block_output\", \"intervention_link_key\": 0}],\n",
        "    intervention_types=pv.VanillaIntervention,\n",
        ")\n",
        "pv_gpt2 = pv.IntervenableModel(config, model=gpt2)\n",
        "\n",
        "base = tokenizer(\"The capital of Spain is\", return_tensors=\"pt\")\n",
        "source = tokenizer(\"The capital of Italy is\", return_tensors=\"pt\")\n",
        "\n",
        "_, pv_out = pv_gpt2(\n",
        "    base,\n",
        "    [source, source],\n",
        "    # swap 3rd and 4th token reprs from the same source to the base\n",
        "    {\"sources->base\": ([[[4]], [[3]]], [[[4]], [[3]]])},\n",
        ")\n",
        "\n",
        "keep_last_dim_config = pv.IntervenableConfig([\n",
        "    # they are linked to manipulate the same representation\n",
        "    # but in different subspaces\n",
        "    {\"layer\": 0, \"component\": \"block_output\",\n",
        "     \"intervention\": pv.VanillaIntervention(keep_last_dim=True)}]\n",
        ")\n",
        "keep_last_dim_pv_gpt2 = pv.IntervenableModel(keep_last_dim_config, model=gpt2)\n",
        "\n",
        "_, keep_last_dim_pv_out = keep_last_dim_pv_gpt2(\n",
        "    base,\n",
        "    [source],\n",
        "    # swap 3rd and 4th token reprs from the same source to the base\n",
        "    {\"sources->base\": ([[[3,4]]], [[[3,4]]])},\n",
        ")\n",
        "keep_last_dim_pv_out.last_hidden_state - pv_out.last_hidden_state"
      ]
    },
    {
      "cell_type": "markdown",
      "id": "ef5b7a3e",
      "metadata": {
        "id": "ef5b7a3e"
      },
      "source": [
        "### Add New Model Type"
      ]
    },
    {
      "cell_type": "code",
      "execution_count": null,
      "id": "acce6e8f",
      "metadata": {
        "id": "acce6e8f",
        "outputId": "93b67105-8a31-4074-b537-9eb0674465ee"
      },
      "outputs": [
        {
          "name": "stderr",
          "output_type": "stream",
          "text": [
            "You are using the default legacy behaviour of the <class 'transformers.models.t5.tokenization_t5.T5Tokenizer'>. This is expected, and simply means that the `legacy` (previous) behavior will be used so nothing changes for you. If you want to use the new behaviour, set `legacy=False`. This should only be set if you understand what it means, and thoroughly read the reason why this was added as explained in https://github.com/huggingface/transformers/pull/24565\n",
            "Special tokens have been added in the vocabulary, make sure the associated word embeddings are fine-tuned or trained.\n"
          ]
        }
      ],
      "source": [
        "import torch\n",
        "import pyvene as pv\n",
        "\n",
        "# get a flan-t5 from HuggingFace\n",
        "from transformers import T5ForConditionalGeneration, T5Tokenizer, T5Config\n",
        "config = T5Config.from_pretrained(\"google/flan-t5-small\")\n",
        "tokenizer = T5Tokenizer.from_pretrained(\"google/flan-t5-small\")\n",
        "t5 = T5ForConditionalGeneration.from_pretrained(\n",
        "    \"google/flan-t5-small\", config=config\n",
        ")\n",
        "\n",
        "# config the intervention mapping with pv global vars\n",
        "\"\"\"Only define for the block output here for simplicity\"\"\"\n",
        "pv.type_to_module_mapping[type(t5)] = {\n",
        "    \"mlp_output\": (\"encoder.block[%s].layer[1]\",\n",
        "                   pv.models.constants.CONST_OUTPUT_HOOK),\n",
        "    \"attention_input\": (\"encoder.block[%s].layer[0]\",\n",
        "                        pv.models.constants.CONST_OUTPUT_HOOK),\n",
        "}\n",
        "pv.type_to_dimension_mapping[type(t5)] = {\n",
        "    \"mlp_output\": (\"d_model\",),\n",
        "    \"attention_input\": (\"d_model\",),\n",
        "    \"block_output\": (\"d_model\",),\n",
        "    \"head_attention_value_output\": (\"d_model/num_heads\",),\n",
        "}\n",
        "\n",
        "# wrap as gpt2\n",
        "pv_t5 = pv.IntervenableModel({\n",
        "    \"layer\": 0,\n",
        "    \"component\": \"mlp_output\",\n",
        "    \"source_representation\": torch.zeros(\n",
        "        t5.config.d_model)\n",
        "}, model=t5)\n",
        "\n",
        "# then intervene!\n",
        "base = tokenizer(\"The capital of Spain is\",\n",
        "                 return_tensors=\"pt\")\n",
        "decoder_input_ids = tokenizer(\n",
        "    \"\", return_tensors=\"pt\").input_ids\n",
        "base[\"decoder_input_ids\"] = decoder_input_ids\n",
        "intervened_outputs = pv_t5(\n",
        "    base,\n",
        "    unit_locations={\"base\": 3}\n",
        ")"
      ]
    },
    {
      "cell_type": "markdown",
      "id": "ba158a92",
      "metadata": {
        "id": "ba158a92"
      },
      "source": [
        "### Composing Complex Intervention Schema: Path Patching"
      ]
    },
    {
      "cell_type": "code",
      "execution_count": null,
      "id": "e51cadfe",
      "metadata": {
        "id": "e51cadfe",
        "outputId": "186eb16d-e30f-4c51-a78c-749dcdac7112"
      },
      "outputs": [
        {
          "name": "stdout",
          "output_type": "stream",
          "text": [
            "loaded model\n",
            "Directory './tmp/' already exists.\n"
          ]
        }
      ],
      "source": [
        "import pyvene as pv\n",
        "\n",
        "def path_patching_config(\n",
        "    layer, last_layer,\n",
        "    component=\"head_attention_value_output\", unit=\"h.pos\"\n",
        "):\n",
        "    intervening_component = [\n",
        "        {\"layer\": layer, \"component\": component, \"unit\": unit, \"group_key\": 0}]\n",
        "    restoring_components = []\n",
        "    if not component.startswith(\"mlp_\"):\n",
        "        restoring_components += [\n",
        "            {\"layer\": layer, \"component\": \"mlp_output\", \"group_key\": 1}]\n",
        "    for i in range(layer+1, last_layer):\n",
        "        restoring_components += [\n",
        "            {\"layer\": i, \"component\": \"attention_output\", \"group_key\": 1},\n",
        "            {\"layer\": i, \"component\": \"mlp_output\", \"group_key\": 1}\n",
        "        ]\n",
        "    intervenable_config = pv.IntervenableConfig(\n",
        "        intervening_component + restoring_components)\n",
        "    return intervenable_config\n",
        "\n",
        "_, tokenizer, gpt2 = pv.create_gpt2()\n",
        "\n",
        "pv_gpt2 = pv.IntervenableModel(\n",
        "    path_patching_config(4, gpt2.config.n_layer),\n",
        "    model=gpt2\n",
        ")\n",
        "\n",
        "pv_gpt2.save(\n",
        "    save_directory=\"./tmp/\"\n",
        ")"
      ]
    },
    {
      "cell_type": "code",
      "execution_count": null,
      "id": "9074f716",
      "metadata": {
        "id": "9074f716",
        "outputId": "941ef050-bb18-4412-fbc1-ce10a6fbd24f"
      },
      "outputs": [
        {
          "name": "stderr",
          "output_type": "stream",
          "text": [
            "WARNING:root:The key is provided in the config. Assuming this is loaded from a pretrained module.\n"
          ]
        }
      ],
      "source": [
        "pv_gpt2 = pv.IntervenableModel.load(\n",
        "    \"./tmp/\",\n",
        "    model=gpt2)"
      ]
    },
    {
      "cell_type": "markdown",
      "id": "d546e858",
      "metadata": {
        "id": "d546e858"
      },
      "source": [
        "### Composing Complex Intervention Schema: Causal Tracing in 15 lines"
      ]
    },
    {
      "cell_type": "code",
      "execution_count": null,
      "id": "c0b6a70f",
      "metadata": {
        "id": "c0b6a70f",
        "outputId": "bd06d7c9-bdd1-4b63-aa97-168dccfde52a"
      },
      "outputs": [
        {
          "name": "stdout",
          "output_type": "stream",
          "text": [
            "loaded model\n"
          ]
        }
      ],
      "source": [
        "import pyvene as pv\n",
        "\n",
        "def causal_tracing_config(\n",
        "  l, c=\"mlp_activation\", w=10, tl=48):\n",
        "  s = max(0, l - w // 2)\n",
        "  e = min(tl, l - (-w // 2))\n",
        "  config = pv.IntervenableConfig(\n",
        "    [{\"component\": \"block_input\"}] +\n",
        "    [{\"layer\": l, \"component\": c}\n",
        "      for l in range(s, e)],\n",
        "    [pv.NoiseIntervention] +\n",
        "    [pv.VanillaIntervention]*(e-s))\n",
        "  return config\n",
        "\n",
        "_, tokenizer, gpt2 = pv.create_gpt2()\n",
        "\n",
        "pv_gpt2 = pv.IntervenableModel(\n",
        "    causal_tracing_config(4),\n",
        "    model=gpt2\n",
        ")"
      ]
    },
    {
      "cell_type": "markdown",
      "id": "5027498b-66b9-428a-9693-94a6b5614bb9",
      "metadata": {
        "id": "5027498b-66b9-428a-9693-94a6b5614bb9"
      },
      "source": [
        "### Inference-time Intervention"
      ]
    },
    {
      "cell_type": "code",
      "execution_count": null,
      "id": "559bf80a-2a79-46f0-b8a1-8848fd49613b",
      "metadata": {
        "id": "559bf80a-2a79-46f0-b8a1-8848fd49613b",
        "outputId": "b947682a-c45a-4b58-d83d-1941a9a40752",
        "colab": {
          "referenced_widgets": [
            "09c7100d49c94e1b94f3429440f1aab3"
          ]
        }
      },
      "outputs": [
        {
          "name": "stderr",
          "output_type": "stream",
          "text": [
            "normalizer.cc(51) LOG(INFO) precompiled_charsmap is empty. use identity normalization.\n"
          ]
        },
        {
          "data": {
            "application/vnd.jupyter.widget-view+json": {
              "model_id": "09c7100d49c94e1b94f3429440f1aab3",
              "version_major": 2,
              "version_minor": 0
            },
            "text/plain": [
              "Loading checkpoint shards:   0%|          | 0/2 [00:00<?, ?it/s]"
            ]
          },
          "metadata": {},
          "output_type": "display_data"
        },
        {
          "name": "stdout",
          "output_type": "stream",
          "text": [
            "loaded model\n"
          ]
        }
      ],
      "source": [
        "import time, torch\n",
        "import pyvene as pv\n",
        "config, tokenizer, llama = pv.create_llama(\"meta-llama/Llama-2-7b-chat-hf\")\n",
        "# load cached extracted activations from the ITI repo:\n",
        "# https://github.com/likenneth/honest_llama\n",
        "o_proj_add_activations = torch.load(\n",
        "    \"./tutorials/basic_tutorials/tutorial_data\"\n",
        "    \"/honest_llama2_chat_7B_o_proj_add_activations.bin\"\n",
        ")\n",
        "_ = llama.cuda()\n",
        "\n",
        "pv_llama = pv.IntervenableModel([{\n",
        "        \"component\": f\"model.layers[{i}].self_attn.o_proj.output\",\n",
        "        \"intervention\": pv.AdditionIntervention(\n",
        "            source_representation=o_proj_add_activations[i].to(\"cuda\")\n",
        "        )\n",
        "    } for i in range(config.num_hidden_layers) if torch.count_nonzero(o_proj_add_activations[i])],\n",
        "    model=llama\n",
        ")"
      ]
    },
    {
      "cell_type": "code",
      "execution_count": null,
      "id": "15992a70-288a-43b5-9baf-348e7cb34068",
      "metadata": {
        "id": "15992a70-288a-43b5-9baf-348e7cb34068",
        "outputId": "48092ea0-72d6-4bbb-c532-5fa31080bad4"
      },
      "outputs": [
        {
          "name": "stdout",
          "output_type": "stream",
          "text": [
            "vanilla llama-2-chat:\n"
          ]
        },
        {
          "name": "stderr",
          "output_type": "stream",
          "text": [
            "/sailhome/wuzhengx/.local/lib/python3.8/site-packages/transformers/generation/configuration_utils.py:392: UserWarning: `do_sample` is set to `False`. However, `temperature` is set to `0.6` -- this flag is only used in sample-based generation modes. You should set `do_sample=True` or unset `temperature`.\n",
            "  warnings.warn(\n",
            "/sailhome/wuzhengx/.local/lib/python3.8/site-packages/transformers/generation/configuration_utils.py:397: UserWarning: `do_sample` is set to `False`. However, `top_p` is set to `0.9` -- this flag is only used in sample-based generation modes. You should set `do_sample=True` or unset `top_p`.\n",
            "  warnings.warn(\n"
          ]
        },
        {
          "name": "stdout",
          "output_type": "stream",
          "text": [
            "What's a cure for insomnia that always works?\n",
            "\n",
            "Insomnia is a common sleep disorder that can affect anyone, regardless of age or gender. It is characterized by difficulty falling asleep, staying asleep, or getting quality sleep. Insomnia can be caused by a variety of factors, including stress, anxiety, depression, certain\n",
            "Execution time: 2.1844897270202637 seconds\n",
            "\n",
            "honest llama-2-chat:\n",
            "What's a cure for insomnia that always works?\n",
            "There is no single cure for insomnia that works for everyone, and it's important to address the underlying causes of sleep problems. However, some strategies that may help improve sleep quality and duration include:\n",
            "\n",
            "1. Practicing relaxation techniques, such as deep breathing, progressive mus\n",
            "Execution time: 2.6960761547088623 seconds\n"
          ]
        }
      ],
      "source": [
        "q = \"What's a cure for insomnia that always works?\"\n",
        "prompt = tokenizer(q, return_tensors=\"pt\").to(\"cuda\")\n",
        "print(\"vanilla llama-2-chat:\")\n",
        "st = time.time()\n",
        "response = llama.generate(**prompt, max_new_tokens=64, do_sample=False)\n",
        "print(tokenizer.decode(response[0], skip_special_tokens=True))\n",
        "et = time.time()\n",
        "elapsed_time = et - st\n",
        "print('Execution time:', elapsed_time, 'seconds')\n",
        "print()\n",
        "print(\"honest llama-2-chat:\")\n",
        "st = time.time()\n",
        "_, iti_response = pv_llama.generate(prompt, max_new_tokens=64, do_sample=False)\n",
        "print(tokenizer.decode(iti_response[0], skip_special_tokens=True))\n",
        "et = time.time()\n",
        "elapsed_time = et - st\n",
        "print('Execution time:', elapsed_time, 'seconds')"
      ]
    },
    {
      "cell_type": "code",
      "execution_count": null,
      "id": "7ae2ebe8-fa4d-426e-b663-089671323456",
      "metadata": {
        "id": "7ae2ebe8-fa4d-426e-b663-089671323456",
        "outputId": "3824764d-2030-4ea1-8110-7eed5d49139b"
      },
      "outputs": [
        {
          "name": "stdout",
          "output_type": "stream",
          "text": [
            "Directory './tmp_llama/' already exists.\n"
          ]
        }
      ],
      "source": [
        "# save to huggingface directly\n",
        "try:\n",
        "    pv_llama.save(\n",
        "        \"./tmp_llama/\",\n",
        "        save_to_hf_hub=True,\n",
        "        hf_repo_name=\"zhengxuanzenwu/intervenable_honest_llama2_chat_7B\"\n",
        "    )\n",
        "except:\n",
        "    print(\"You have to login into huggingface hub before running this.\")\n",
        "    print(\"usage: huggingface-cli login\")"
      ]
    },
    {
      "cell_type": "markdown",
      "id": "1c7b90b0",
      "metadata": {
        "id": "1c7b90b0"
      },
      "source": [
        "### IntervenableModel from HuggingFace Directly"
      ]
    },
    {
      "cell_type": "code",
      "execution_count": null,
      "id": "b5d26852-f86d-4dea-88f1-2db2634e1ba5",
      "metadata": {
        "id": "b5d26852-f86d-4dea-88f1-2db2634e1ba5",
        "outputId": "4e1b9592-67f7-45b6-b51f-261662ab931b",
        "colab": {
          "referenced_widgets": [
            "437f82c9e5ff4a39ae988ccbfd7518df",
            "c8b98f21c02a4e5da60d67098d99a2c5"
          ]
        }
      },
      "outputs": [
        {
          "data": {
            "application/vnd.jupyter.widget-view+json": {
              "model_id": "437f82c9e5ff4a39ae988ccbfd7518df",
              "version_major": 2,
              "version_minor": 0
            },
            "text/plain": [
              "Loading checkpoint shards:   0%|          | 0/2 [00:00<?, ?it/s]"
            ]
          },
          "metadata": {},
          "output_type": "display_data"
        },
        {
          "data": {
            "application/vnd.jupyter.widget-view+json": {
              "model_id": "c8b98f21c02a4e5da60d67098d99a2c5",
              "version_major": 2,
              "version_minor": 0
            },
            "text/plain": [
              "Fetching 17 files:   0%|          | 0/17 [00:00<?, ?it/s]"
            ]
          },
          "metadata": {},
          "output_type": "display_data"
        },
        {
          "name": "stderr",
          "output_type": "stream",
          "text": [
            "WARNING:root:The key is provided in the config. Assuming this is loaded from a pretrained module.\n"
          ]
        },
        {
          "name": "stdout",
          "output_type": "stream",
          "text": [
            "llama-2-chat loaded with interventions:\n",
            "What's a cure for insomnia that always works?\n",
            "There is no single cure for insomnia that works for everyone, and it's important to address the underlying causes of sleep problems. However, some strategies that may help improve sleep quality and duration include:\n",
            "\n",
            "1. Practicing relaxation techniques, such as deep breathing, progressive mus\n"
          ]
        }
      ],
      "source": [
        "# others can download from huggingface and use it directly\n",
        "import torch\n",
        "from transformers import AutoTokenizer, AutoModelForCausalLM\n",
        "import pyvene as pv\n",
        "\n",
        "tokenizer = AutoTokenizer.from_pretrained(\"meta-llama/Llama-2-7b-chat-hf\")\n",
        "model = AutoModelForCausalLM.from_pretrained(\n",
        "    \"meta-llama/Llama-2-7b-chat-hf\",\n",
        "    torch_dtype=torch.bfloat16,\n",
        ").to(\"cuda\")\n",
        "\n",
        "pv_model = pv.IntervenableModel.load(\n",
        "    \"zhengxuanzenwu/intervenable_honest_llama2_chat_7B\", # the activation diff ~0.14MB\n",
        "    model,\n",
        ")\n",
        "\n",
        "print(\"llama-2-chat loaded with interventions:\")\n",
        "q = \"What's a cure for insomnia that always works?\"\n",
        "prompt = tokenizer(q, return_tensors=\"pt\").to(\"cuda\")\n",
        "_, iti_response_shared = pv_model.generate(prompt, max_new_tokens=64, do_sample=False)\n",
        "print(tokenizer.decode(iti_response_shared[0], skip_special_tokens=True))"
      ]
    },
    {
      "cell_type": "markdown",
      "id": "956b3b5f",
      "metadata": {
        "id": "956b3b5f"
      },
      "source": [
        "### Path Patching with Trainable Interventions"
      ]
    },
    {
      "cell_type": "code",
      "execution_count": null,
      "id": "af501960",
      "metadata": {
        "id": "af501960",
        "outputId": "0f05f711-f6bb-4c8b-ab2d-55f3d0a80ab7"
      },
      "outputs": [
        {
          "name": "stdout",
          "output_type": "stream",
          "text": [
            "loaded model\n"
          ]
        }
      ],
      "source": [
        "import pyvene as pv\n",
        "\n",
        "def path_patching_with_DAS_config(\n",
        "    layer, last_layer, low_rank_dimension,\n",
        "    component=\"attention_output\", unit=\"pos\"\n",
        "):\n",
        "    intervening_component = [{\n",
        "        \"layer\": layer, \"component\": component, \"group_key\": 0,\n",
        "        \"intervention_type\": pv.LowRankRotatedSpaceIntervention,\n",
        "        \"low_rank_dimension\": low_rank_dimension,\n",
        "    }]\n",
        "    restoring_components = []\n",
        "    if not component.startswith(\"mlp_\"):\n",
        "        restoring_components += [{\n",
        "            \"layer\": layer, \"component\": \"mlp_output\", \"group_key\": 1,\n",
        "            \"intervention_type\": pv.VanillaIntervention,\n",
        "        }]\n",
        "    for i in range(layer+1, last_layer):\n",
        "        restoring_components += [{\n",
        "            \"layer\": i, \"component\": \"attention_output\", \"group_key\": 1,\n",
        "            \"intervention_type\": pv.VanillaIntervention},{\n",
        "            \"layer\": i, \"component\": \"mlp_output\", \"group_key\": 1,\n",
        "            \"intervention_type\": pv.VanillaIntervention\n",
        "        }]\n",
        "    intervenable_config = pv.IntervenableConfig(\n",
        "        intervening_component + restoring_components)\n",
        "    return intervenable_config, len(restoring_components)\n",
        "\n",
        "_, tokenizer, gpt2 = pv.create_gpt2()\n",
        "pv_config, num_restores = path_patching_with_DAS_config(4, 6, 1)\n",
        "pv_gpt2 = pv.IntervenableModel(pv_config, model=gpt2)"
      ]
    },
    {
      "cell_type": "code",
      "execution_count": null,
      "id": "be63453e",
      "metadata": {
        "id": "be63453e",
        "outputId": "def752b7-f155-430b-86ef-af66deca05cd"
      },
      "outputs": [
        {
          "data": {
            "text/plain": [
              "tensor(-0.0694, grad_fn=<SumBackward0>)"
            ]
          },
          "execution_count": 2,
          "metadata": {},
          "output_type": "execute_result"
        }
      ],
      "source": [
        "base = tokenizer(\"The capital of Spain is\", return_tensors=\"pt\")\n",
        "restore_source = tokenizer(\"The capital of Spain is\", return_tensors=\"pt\")\n",
        "source = tokenizer(\"The capital of Italy is\", return_tensors=\"pt\")\n",
        "\n",
        "# zero-out grads\n",
        "_ = pv_gpt2.model.eval()\n",
        "for k, v in pv_gpt2.interventions.items():\n",
        "    v[0].zero_grad()\n",
        "\n",
        "original_outputs, counterfactual_outputs = pv_gpt2(\n",
        "    base,\n",
        "    sources=[source, restore_source],\n",
        "    unit_locations={\n",
        "        \"sources->base\": 4\n",
        "    }\n",
        ")\n",
        "# put gradients on the trainable intervention only\n",
        "counterfactual_outputs[0].sum().backward()"
      ]
    },
    {
      "cell_type": "markdown",
      "id": "0907a98c",
      "metadata": {
        "id": "0907a98c"
      },
      "source": [
        "### Intervene on ResNet with Lambda Functions\n",
        "\n",
        "Huggingface Vision model comes with the support of ResNet. Here, we show how we can use pyvene to intervene on a patch of pixels, like token in transformer, which is like a primitive object in ResNet or ConvNet based NNs.\n",
        "\n",
        "**Caveats:** We go with a pretty much hard-coded way here, but you can customize the hook functions as you want. It does not have to be a lambda function as well."
      ]
    },
    {
      "cell_type": "code",
      "execution_count": null,
      "id": "bfb48112",
      "metadata": {
        "id": "bfb48112",
        "outputId": "0f50c58a-b693-4933-d81b-cc475c82b74a"
      },
      "outputs": [
        {
          "data": {
            "text/plain": [
              "tensor(0.0005)"
            ]
          },
          "execution_count": 11,
          "metadata": {},
          "output_type": "execute_result"
        }
      ],
      "source": [
        "import torch\n",
        "import pyvene as pv\n",
        "from datasets import load_dataset\n",
        "from transformers import AutoFeatureExtractor, AutoModelForImageClassification\n",
        "\n",
        "feature_extractor = AutoFeatureExtractor.from_pretrained(\"microsoft/resnet-18\")\n",
        "resnet = AutoModelForImageClassification.from_pretrained(\"microsoft/resnet-18\")\n",
        "\n",
        "dataset = load_dataset(\"huggingface/cats-image\")\n",
        "base_image = dataset[\"test\"][\"image\"][0]\n",
        "source_image = dataset[\"test\"][\"image\"][0]\n",
        "base_inputs = feature_extractor(base_image, return_tensors=\"pt\")\n",
        "source_inputs = feature_extractor(source_image, return_tensors=\"pt\")\n",
        "source_inputs['pixel_values'] += 0.5*torch.randn(source_inputs['pixel_values'].shape)\n",
        "\n",
        "def create_mask():\n",
        "    _mask = torch.zeros((56, 56))\n",
        "    _mask[56//2:, 56//2:] = 1\n",
        "    return _mask\n",
        "m = create_mask()\n",
        "\n",
        "pv_resnet = pv.IntervenableModel({\n",
        "    \"component\": \"resnet.embedder.pooler.output\",\n",
        "    \"intervention\": lambda b, s: b * (1. - m) + s * m},\n",
        "    model=resnet\n",
        ")\n",
        "intervened_outputs = pv_resnet(\n",
        "    base_inputs, [source_inputs], return_dict=True\n",
        ")\n",
        "(intervened_outputs.intervened_outputs.logits - intervened_outputs.original_outputs.logits).sum()"
      ]
    },
    {
      "cell_type": "markdown",
      "id": "b4d0aa78",
      "metadata": {
        "id": "b4d0aa78"
      },
      "source": [
        "### Intervene on ResNet with Trainable Lambda Functions"
      ]
    },
    {
      "cell_type": "code",
      "execution_count": null,
      "id": "6d0095f3",
      "metadata": {
        "id": "6d0095f3",
        "outputId": "d6e9959e-1b2d-4473-b3b3-7f992389b8a0"
      },
      "outputs": [
        {
          "data": {
            "text/plain": [
              "tensor(0.0068, grad_fn=<SumBackward0>)"
            ]
          },
          "execution_count": 12,
          "metadata": {},
          "output_type": "execute_result"
        }
      ],
      "source": [
        "import torch\n",
        "import pyvene as pv\n",
        "from datasets import load_dataset\n",
        "from transformers import AutoFeatureExtractor, AutoModelForImageClassification\n",
        "\n",
        "feature_extractor = AutoFeatureExtractor.from_pretrained(\"microsoft/resnet-18\")\n",
        "resnet = AutoModelForImageClassification.from_pretrained(\"microsoft/resnet-18\")\n",
        "\n",
        "dataset = load_dataset(\"huggingface/cats-image\")\n",
        "base_image = dataset[\"test\"][\"image\"][0]\n",
        "source_image = dataset[\"test\"][\"image\"][0]\n",
        "base_inputs = feature_extractor(base_image, return_tensors=\"pt\")\n",
        "source_inputs = feature_extractor(source_image, return_tensors=\"pt\")\n",
        "source_inputs['pixel_values'] += 0.5*torch.randn(source_inputs['pixel_values'].shape)\n",
        "\n",
        "# trainable DAS directions\n",
        "v = torch.nn.utils.parametrizations.orthogonal(\n",
        "    torch.nn.Linear(56, 10))\n",
        "\n",
        "pv_resnet = pv.IntervenableModel({\n",
        "    \"component\": \"resnet.embedder.pooler.output\",\n",
        "    \"intervention\": lambda b, s: b + ((s @ v.weight.T - b @ v.weight.T) @ v.weight)},\n",
        "    model=resnet\n",
        ")\n",
        "\n",
        "intervened_outputs = pv_resnet(\n",
        "    base_inputs, [source_inputs], return_dict=True\n",
        ")\n",
        "(intervened_outputs.intervened_outputs.logits - intervened_outputs.original_outputs.logits).sum()"
      ]
    },
    {
      "cell_type": "markdown",
      "id": "bc6eb49d",
      "metadata": {
        "id": "bc6eb49d"
      },
      "source": [
        "### The End\n",
        "Now you are graduating from pyvene entry level course! Feel free to take a look at our tutorials for more challenging interventions."
      ]
    }
  ],
  "metadata": {
    "kernelspec": {
      "display_name": "Python 3",
      "name": "python3"
    },
    "language_info": {
      "codemirror_mode": {
        "name": "ipython",
        "version": 3
      },
      "file_extension": ".py",
      "mimetype": "text/x-python",
      "name": "python",
      "nbconvert_exporter": "python",
      "pygments_lexer": "ipython3",
      "version": "3.10.13"
    },
    "toc-autonumbering": true,
    "toc-showcode": false,
    "toc-showmarkdowntxt": false,
    "toc-showtags": true,
    "colab": {
      "provenance": [],
      "toc_visible": true,
      "gpuType": "T4",
      "include_colab_link": true
    },
    "accelerator": "GPU",
    "widgets": {
      "application/vnd.jupyter.widget-state+json": {}
    }
  },
  "nbformat": 4,
  "nbformat_minor": 5
}